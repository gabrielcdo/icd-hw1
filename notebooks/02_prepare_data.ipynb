{
 "cells": [
  {
   "cell_type": "code",
   "execution_count": 12,
   "metadata": {},
   "outputs": [
    {
     "name": "stdout",
     "output_type": "stream",
     "text": [
      "The autoreload extension is already loaded. To reload it, use:\n",
      "  %reload_ext autoreload\n",
      "The jupyter_black extension is already loaded. To reload it, use:\n",
      "  %reload_ext jupyter_black\n"
     ]
    }
   ],
   "source": [
    "%load_ext autoreload\n",
    "%autoreload 2\n",
    "%load_ext jupyter_black"
   ]
  },
  {
   "attachments": {},
   "cell_type": "markdown",
   "metadata": {},
   "source": [
    "### Prepare Data"
   ]
  },
  {
   "cell_type": "code",
   "execution_count": 13,
   "metadata": {},
   "outputs": [],
   "source": [
    "import pandas as pd\n",
    "import numpy as np"
   ]
  },
  {
   "cell_type": "code",
   "execution_count": 14,
   "metadata": {},
   "outputs": [],
   "source": [
    "numeric_cols = [\n",
    "    \"price\",\n",
    "    \"usable_areas\",\n",
    "    \"total_areas\",\n",
    "    \"parking_spaces\",\n",
    "    \"suites\",\n",
    "    \"bathrooms\",\n",
    "    \"bedrooms\",\n",
    "]"
   ]
  },
  {
   "cell_type": "code",
   "execution_count": 31,
   "metadata": {},
   "outputs": [],
   "source": [
    "data_size = 9100\n",
    "data = pd.read_csv(f\"../data/raw_data/raw_data_{data_size}.csv\")"
   ]
  },
  {
   "cell_type": "code",
   "execution_count": 32,
   "metadata": {},
   "outputs": [],
   "source": [
    "data.rename(\n",
    "    columns={\n",
    "        \"listing.pricingInfo.rawPrice\": \"price\",\n",
    "        \"link.data.city\": \"city\",\n",
    "        \"link.data.state\": \"state\",\n",
    "        \"link.data.neighborhood\": \"neighborhood\",\n",
    "        \"listing.usableAreas\": \"usable_areas\",\n",
    "        \"listing.totalAreas\": \"total_areas\",\n",
    "        \"listing.parkingSpaces\": \"parking_spaces\",\n",
    "        \"listing.suites\": \"suites\",\n",
    "        \"listing.bathrooms\": \"bathrooms\",\n",
    "        \"listing.bedrooms\": \"bedrooms\",\n",
    "    },\n",
    "    inplace=True,\n",
    ")\n",
    "cols_to_select = [\n",
    "    \"price\",\n",
    "    \"city\",\n",
    "    \"state\",\n",
    "    \"neighborhood\",\n",
    "    \"usable_areas\",\n",
    "    \"parking_spaces\",\n",
    "    \"suites\",\n",
    "    \"bathrooms\",\n",
    "    \"bedrooms\",\n",
    "]\n",
    "\n",
    "numeric_cols = [\n",
    "    \"price\",\n",
    "    \"usable_areas\",\n",
    "    \"parking_spaces\",\n",
    "    \"suites\",\n",
    "    \"bathrooms\",\n",
    "    \"bedrooms\",\n",
    "]\n",
    "\n",
    "# Specify the columns to remove outliers from\n",
    "cols_to_clean = [\n",
    "    \"price\",\n",
    "    \"usable_areas\",\n",
    "]\n",
    "\n",
    "data = data[cols_to_select]\n",
    "data = data.dropna()\n",
    "for col in numeric_cols:\n",
    "    data[col] = data[col].astype(int)\n",
    "# Define the lower and upper bounds for filtering outliers\n",
    "quantiles = data[cols_to_clean].quantile([0.05, 0.95])\n",
    "lower_bound = quantiles.loc[0.05]\n",
    "upper_bound = quantiles.loc[0.95]\n",
    "\n",
    "# Filter out the outliers from each specified column\n",
    "for col in cols_to_clean:\n",
    "    data = data[(data[col] > lower_bound[col]) & (data[col] < upper_bound[col])]"
   ]
  },
  {
   "cell_type": "code",
   "execution_count": 33,
   "metadata": {},
   "outputs": [],
   "source": [
    "# Create a new column with  prices to categorical\n",
    "\n",
    "data[\"price_cat\"] = pd.cut(\n",
    "    data[\"price\"], bins=[0, 500000, 1000000, np.inf], labels=[1, 2, 3]\n",
    ")"
   ]
  },
  {
   "cell_type": "code",
   "execution_count": null,
   "metadata": {},
   "outputs": [],
   "source": [
    "data[\"neighborhood\"] = data[\"city\"] + \", \" + data[\"neighborhood\"]"
   ]
  },
  {
   "cell_type": "code",
   "execution_count": 34,
   "metadata": {},
   "outputs": [],
   "source": [
    "data[\"neighborhood_mean_price_per_m2\"] = data[\"price\"] / data[\"usable_areas\"]\n",
    "\n",
    "neighborhood_median_price_per_m2 = data.groupby(\"neighborhood\")[\n",
    "    \"neighborhood_mean_price_per_m2\"\n",
    "].median()\n",
    "\n",
    "data[\"neighborhood_mean_price_per_m2\"] = data[\"neighborhood\"].map(\n",
    "    neighborhood_median_price_per_m2\n",
    ")"
   ]
  },
  {
   "cell_type": "code",
   "execution_count": 35,
   "metadata": {},
   "outputs": [],
   "source": [
    "data[\"price_per_m2\"] = data[\"price\"] / data[\"usable_areas\"]"
   ]
  },
  {
   "cell_type": "code",
   "execution_count": 39,
   "metadata": {},
   "outputs": [
    {
     "name": "stdout",
     "output_type": "stream",
     "text": [
      "formatted_neighborhood\n",
      "Fortaleza, Meireles                         478\n",
      "Fortaleza, Aldeota                          438\n",
      "Fortaleza, Cocó                             345\n",
      "Fortaleza, Engenheiro Luciano Cavalcante    225\n",
      "Aquiraz, Porto das Dunas                    221\n",
      "                                           ... \n",
      "Caucaia, Tabuba                               1\n",
      "Caucaia, Planalto Caucaia                     1\n",
      "Eusébio, Mosquito                             1\n",
      "Pindoretama, Centro                           1\n",
      "Juazeiro do Norte, Frei Damião                1\n",
      "Name: count, Length: 285, dtype: int64\n"
     ]
    }
   ],
   "source": [
    "neighborhood_counts = data[\"formatted_neighborhood\"].value_counts()\n",
    "\n",
    "print(neighborhood_counts)"
   ]
  },
  {
   "cell_type": "code",
   "execution_count": 19,
   "metadata": {},
   "outputs": [],
   "source": [
    "from sklearn.preprocessing import StandardScaler\n",
    "\n",
    "# Selecting the columns to standardize\n",
    "columns_to_standardize = [\"usable_areas\"]\n",
    "\n",
    "# Creating a StandardScaler object\n",
    "sc = StandardScaler()\n",
    "\n",
    "# Fitting the StandardScaler object to the selected columns\n",
    "data[columns_to_standardize] = sc.fit_transform(data[columns_to_standardize])"
   ]
  },
  {
   "cell_type": "code",
   "execution_count": 21,
   "metadata": {},
   "outputs": [
    {
     "data": {
      "text/plain": [
       "7292"
      ]
     },
     "execution_count": 21,
     "metadata": {},
     "output_type": "execute_result"
    }
   ],
   "source": [
    "data.to_csv(f\"../data/processed_data/clean_data_{len(data)}.csv\", index=False)"
   ]
  },
  {
   "attachments": {},
   "cell_type": "markdown",
   "metadata": {},
   "source": [
    "### Load ZAP dataset from Kaagle and do a inflation adjustment"
   ]
  },
  {
   "cell_type": "code",
   "execution_count": 23,
   "metadata": {},
   "outputs": [
    {
     "name": "stderr",
     "output_type": "stream",
     "text": [
      "/tmp/ipykernel_72766/2546126000.py:2: DtypeWarning: Columns (22,75) have mixed types. Specify dtype option on import or set low_memory=False.\n",
      "  data_zap = pd.read_csv(\n"
     ]
    }
   ],
   "source": [
    "# dados do dataZAP filtrado deixando apenas as casas que são de vendas e retirando as que são para alugel\n",
    "data_zap = pd.read_csv(\n",
    "    \"../data/raw_data/dataZAP.csv\",\n",
    "    encoding=\"utf-8\",\n",
    "    sep=\";\",\n",
    "    thousands=\".\",\n",
    "    decimal=\",\",\n",
    ")"
   ]
  }
 ],
 "metadata": {
  "kernelspec": {
   "display_name": "venv",
   "language": "python",
   "name": "python3"
  },
  "language_info": {
   "codemirror_mode": {
    "name": "ipython",
    "version": 3
   },
   "file_extension": ".py",
   "mimetype": "text/x-python",
   "name": "python",
   "nbconvert_exporter": "python",
   "pygments_lexer": "ipython3",
   "version": "3.8.10"
  },
  "orig_nbformat": 4
 },
 "nbformat": 4,
 "nbformat_minor": 2
}
