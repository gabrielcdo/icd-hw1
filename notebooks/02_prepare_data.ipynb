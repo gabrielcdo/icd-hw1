{
 "cells": [
  {
   "cell_type": "code",
   "execution_count": 26,
   "metadata": {},
   "outputs": [
    {
     "name": "stdout",
     "output_type": "stream",
     "text": [
      "The autoreload extension is already loaded. To reload it, use:\n",
      "  %reload_ext autoreload\n",
      "The jupyter_black extension is already loaded. To reload it, use:\n",
      "  %reload_ext jupyter_black\n"
     ]
    }
   ],
   "source": [
    "%load_ext autoreload\n",
    "%autoreload 2\n",
    "%load_ext jupyter_black"
   ]
  },
  {
   "attachments": {},
   "cell_type": "markdown",
   "metadata": {},
   "source": [
    "### Prepare Data"
   ]
  },
  {
   "cell_type": "code",
   "execution_count": 27,
   "metadata": {},
   "outputs": [],
   "source": [
    "import pandas as pd\n",
    "import numpy as np"
   ]
  },
  {
   "cell_type": "code",
   "execution_count": 28,
   "metadata": {},
   "outputs": [],
   "source": [
    "numeric_cols = [\n",
    "    \"price\",\n",
    "    \"usable_areas\",\n",
    "    \"total_areas\",\n",
    "    \"parking_spaces\",\n",
    "    \"suites\",\n",
    "    \"bathrooms\",\n",
    "    \"bedrooms\",\n",
    "]"
   ]
  },
  {
   "cell_type": "code",
   "execution_count": 29,
   "metadata": {},
   "outputs": [
    {
     "name": "stderr",
     "output_type": "stream",
     "text": [
      "/tmp/ipykernel_30278/2203762122.py:2: DtypeWarning: Columns (144) have mixed types. Specify dtype option on import or set low_memory=False.\n",
      "  data = pd.read_csv(f\"../data/raw_data/raw_data_{data_size}.csv\")\n"
     ]
    }
   ],
   "source": [
    "data_size = 10000\n",
    "data = pd.read_csv(f\"../data/raw_data/raw_data_{data_size}.csv\")"
   ]
  },
  {
   "cell_type": "code",
   "execution_count": 30,
   "metadata": {},
   "outputs": [],
   "source": [
    "data.rename(\n",
    "    columns={\n",
    "        \"listing.pricingInfo.rawPrice\": \"price\",\n",
    "        \"link.data.city\": \"city\",\n",
    "        \"link.data.state\": \"state\",\n",
    "        \"listing.usableAreas\": \"usable_areas\",\n",
    "        \"listing.totalAreas\": \"total_areas\",\n",
    "        \"listing.parkingSpaces\": \"parking_spaces\",\n",
    "        \"listing.suites\": \"suites\",\n",
    "        \"listing.bathrooms\": \"bathrooms\",\n",
    "        \"listing.bedrooms\": \"bedrooms\",\n",
    "    },\n",
    "    inplace=True,\n",
    ")\n",
    "cols_to_select = [\n",
    "    \"price\",\n",
    "    \"city\",\n",
    "    \"state\",\n",
    "    \"usable_areas\",\n",
    "    \"parking_spaces\",\n",
    "    \"suites\",\n",
    "    \"bathrooms\",\n",
    "    \"bedrooms\",\n",
    "]\n",
    "\n",
    "numeric_cols = [\n",
    "    \"price\",\n",
    "    \"usable_areas\",\n",
    "    \"parking_spaces\",\n",
    "    \"suites\",\n",
    "    \"bathrooms\",\n",
    "    \"bedrooms\",\n",
    "]\n",
    "\n",
    "# Specify the columns to remove outliers from\n",
    "cols_to_clean = [\n",
    "    \"price\",\n",
    "    \"usable_areas\",\n",
    "]\n",
    "\n",
    "data = data[cols_to_select]\n",
    "data = data.dropna()\n",
    "for col in numeric_cols:\n",
    "    data[col] = data[col].astype(int)\n",
    "# Define the lower and upper bounds for filtering outliers\n",
    "quantiles = data[cols_to_clean].quantile([0.05, 0.95])\n",
    "lower_bound = quantiles.loc[0.05]\n",
    "upper_bound = quantiles.loc[0.95]\n",
    "\n",
    "# Filter out the outliers from each specified column\n",
    "for col in cols_to_clean:\n",
    "    data = data[(data[col] > lower_bound[col]) & (data[col] < upper_bound[col])]"
   ]
  },
  {
   "cell_type": "code",
   "execution_count": 31,
   "metadata": {},
   "outputs": [],
   "source": [
    "# Create a new column with  prices to categorical\n",
    "\n",
    "data[\"price_cat\"] = pd.cut(\n",
    "    data[\"price\"], bins=[0, 500000, 1000000, np.inf], labels=[1, 2, 3]\n",
    ")"
   ]
  },
  {
   "cell_type": "code",
   "execution_count": 32,
   "metadata": {},
   "outputs": [],
   "source": [
    "from sklearn.preprocessing import StandardScaler\n",
    "\n",
    "# Selecting the columns to standardize\n",
    "columns_to_standardize = [\"usable_areas\"]\n",
    "\n",
    "# Creating a StandardScaler object\n",
    "sc = StandardScaler()\n",
    "\n",
    "# Fitting the StandardScaler object to the selected columns\n",
    "data[columns_to_standardize] = sc.fit_transform(data[columns_to_standardize])"
   ]
  },
  {
   "cell_type": "code",
   "execution_count": 33,
   "metadata": {},
   "outputs": [],
   "source": [
    "data.to_csv(f\"../data/processed_data/clean_data_{len(data)}.csv\", index=False)"
   ]
  },
  {
   "cell_type": "code",
   "execution_count": 34,
   "metadata": {},
   "outputs": [
    {
     "data": {
      "text/plain": [
       "7366"
      ]
     },
     "execution_count": 34,
     "metadata": {},
     "output_type": "execute_result"
    }
   ],
   "source": [
    "len(data)"
   ]
  },
  {
   "attachments": {},
   "cell_type": "markdown",
   "metadata": {},
   "source": [
    "### Load ZAP dataset from Kaagle and do a inflation adjustment"
   ]
  },
  {
   "cell_type": "code",
   "execution_count": 23,
   "metadata": {},
   "outputs": [
    {
     "name": "stderr",
     "output_type": "stream",
     "text": [
      "/tmp/ipykernel_72766/2546126000.py:2: DtypeWarning: Columns (22,75) have mixed types. Specify dtype option on import or set low_memory=False.\n",
      "  data_zap = pd.read_csv(\n"
     ]
    }
   ],
   "source": [
    "# dados do dataZAP filtrado deixando apenas as casas que são de vendas e retirando as que são para alugel\n",
    "data_zap = pd.read_csv(\n",
    "    \"../data/raw_data/dataZAP.csv\",\n",
    "    encoding=\"utf-8\",\n",
    "    sep=\";\",\n",
    "    thousands=\".\",\n",
    "    decimal=\",\",\n",
    ")"
   ]
  }
 ],
 "metadata": {
  "kernelspec": {
   "display_name": "venv",
   "language": "python",
   "name": "python3"
  },
  "language_info": {
   "codemirror_mode": {
    "name": "ipython",
    "version": 3
   },
   "file_extension": ".py",
   "mimetype": "text/x-python",
   "name": "python",
   "nbconvert_exporter": "python",
   "pygments_lexer": "ipython3",
   "version": "3.8.10"
  },
  "orig_nbformat": 4
 },
 "nbformat": 4,
 "nbformat_minor": 2
}
