{
 "cells": [
  {
   "cell_type": "code",
   "execution_count": 1,
   "metadata": {},
   "outputs": [
    {
     "data": {
      "text/html": [
       "\n",
       "                <script type=\"application/javascript\" id=\"jupyter_black\">\n",
       "                (function() {\n",
       "                    if (window.IPython === undefined) {\n",
       "                        return\n",
       "                    }\n",
       "                    var msg = \"WARNING: it looks like you might have loaded \" +\n",
       "                        \"jupyter_black in a non-lab notebook with \" +\n",
       "                        \"`is_lab=True`. Please double check, and if \" +\n",
       "                        \"loading with `%load_ext` please review the README!\"\n",
       "                    console.log(msg)\n",
       "                    alert(msg)\n",
       "                })()\n",
       "                </script>\n",
       "                "
      ],
      "text/plain": [
       "<IPython.core.display.HTML object>"
      ]
     },
     "metadata": {},
     "output_type": "display_data"
    }
   ],
   "source": [
    "%load_ext autoreload\n",
    "%autoreload 2\n",
    "%load_ext jupyter_black"
   ]
  },
  {
   "attachments": {},
   "cell_type": "markdown",
   "metadata": {},
   "source": [
    "## Web Scrapping"
   ]
  },
  {
   "cell_type": "code",
   "execution_count": 2,
   "metadata": {},
   "outputs": [],
   "source": [
    "import requests as rq\n",
    "import json\n",
    "import pandas as pd\n",
    "import numpy as np\n",
    "import time"
   ]
  },
  {
   "cell_type": "code",
   "execution_count": 3,
   "metadata": {},
   "outputs": [],
   "source": [
    "USER_AGENT = \"Mozilla/5.0 (Macintosh; Intel Mac OS X 10_9_3) AppleWebKit/537.36 (KHTML, like Gecko) Chrome/35.0.1916.47 Safari/537.36\"\n",
    "HEADERS = {\"User-Agent\": USER_AGENT}"
   ]
  },
  {
   "cell_type": "code",
   "execution_count": 59,
   "metadata": {},
   "outputs": [],
   "source": [
    "S_URL = \"https://www.zapimoveis.com.br/venda/imoveis/ce+\"\n",
    "E_URL = \"/?pagina=\"\n",
    "CITYS = [\n",
    "    \"fortaleza\",\n",
    "    \"itaitinga\",\n",
    "    \"juazeiro_do_norte\",\n",
    "    \"caucaia\",\n",
    "    \"crato\",\n",
    "    \"eusebio\",\n",
    "    \"horizonte\",\n",
    "    \"aquiraz\",\n",
    "    \"pacatuba\",\n",
    "    \"paracuru\",\n",
    "    \"maracanau\",\n",
    "    \"guaiuba\",\n",
    "    \"jijoca_de_jericoacoara\",\n",
    "    \"sao_gonçalo_do_amarante\",\n",
    "    \"mulungu\",\n",
    "    \"cascavel\",\n",
    "    \"beberibe\",\n",
    "    \"maranguape\",\n",
    "    \"paraipaba\",\n",
    "    \"cruz\",\n",
    "    \"barbalha\",\n",
    "    \"quixeramobim\",\n",
    "    \"fortim\",\n",
    "    \"missao_velha\",\n",
    "    \"guaramiranga\",\n",
    "    \"umirim\",\n",
    "    \"itapipoca\",\n",
    "    \"trairi\",\n",
    "    \"camocim\",\n",
    "    \"aracati\",\n",
    "    \"itarema\",\n",
    "    \"pentecoste\",\n",
    "    \"sobral\",\n",
    "    \"milagres\",\n",
    "    \"amontada\",\n",
    "    \"pindoretama\",\n",
    "    \"pacoti\",\n",
    "    \"irauçuba\",\n",
    "    \"tabuleiro_do_norte\",\n",
    "    \"pacajus\",\n",
    "    \"acarau\",\n",
    "]\n",
    "pages = 101  # Máximo disponivel no site"
   ]
  },
  {
   "cell_type": "code",
   "execution_count": 60,
   "metadata": {},
   "outputs": [],
   "source": [
    "def process_json(json_dict):\n",
    "    results_listining = json_dict[\"results\"][\"listings\"]\n",
    "    for i, house in enumerate(results_listining):\n",
    "        parking_spaces = results_listining[i][\"listing\"][\"parkingSpaces\"]\n",
    "        results_listining[i][\"listing\"][\"parkingSpaces\"] = (\n",
    "            int(parking_spaces[0]) if parking_spaces else 0\n",
    "        )\n",
    "        suites = results_listining[i][\"listing\"][\"suites\"]\n",
    "        results_listining[i][\"listing\"][\"suites\"] = int(suites[0]) if suites else 0\n",
    "        bathrooms = results_listining[i][\"listing\"][\"bathrooms\"]\n",
    "        results_listining[i][\"listing\"][\"bathrooms\"] = (\n",
    "            int(bathrooms[0]) if bathrooms else np.nan\n",
    "        )\n",
    "        bedrooms = results_listining[i][\"listing\"][\"bedrooms\"]\n",
    "        results_listining[i][\"listing\"][\"bedrooms\"] = (\n",
    "            int(bedrooms[0]) if bedrooms else np.nan\n",
    "        )\n",
    "        usable_areas = results_listining[i][\"listing\"][\"usableAreas\"]\n",
    "        results_listining[i][\"listing\"][\"usableAreas\"] = (\n",
    "            int(usable_areas[0]) if usable_areas else np.nan\n",
    "        )\n",
    "\n",
    "        total_areas = results_listining[i][\"listing\"][\"totalAreas\"]\n",
    "        results_listining[i][\"listing\"][\"totalAreas\"] = (\n",
    "            int(total_areas[0]) if total_areas else np.nan\n",
    "        )\n",
    "        iptu = results_listining[i][\"listing\"][\"pricingInfo\"][\"yearlyIptu\"]\n",
    "        results_listining[i][\"listing\"][\"pricingInfo\"][\"yearlyIptu\"] = (\n",
    "            float(iptu.replace(\"R$ \", \"\").replace(\".\", \"\")) if iptu else np.nan\n",
    "        )\n",
    "\n",
    "    json_dict[\"results\"][\"listings\"] = results_listining\n",
    "    return json_dict"
   ]
  },
  {
   "cell_type": "code",
   "execution_count": 61,
   "metadata": {},
   "outputs": [
    {
     "data": {
      "text/plain": [
       "'https://www.zapimoveis.com.br/venda/imoveis/ce+caucaia/?pagina=1'"
      ]
     },
     "execution_count": 61,
     "metadata": {},
     "output_type": "execute_result"
    }
   ],
   "source": [
    "S_URL + \"caucaia\" + E_URL + \"1\""
   ]
  },
  {
   "cell_type": "code",
   "execution_count": 62,
   "metadata": {},
   "outputs": [],
   "source": [
    "from tqdm.auto import tqdm\n",
    "\n",
    "\n",
    "def get_house_info(html: str):\n",
    "    json_start = html.find('\"results\":{\"listings\"')\n",
    "    json_end = html.find(\";(function(){var s\")\n",
    "\n",
    "    json_str = \"{\" + html[json_start:json_end]\n",
    "\n",
    "    json_dict = json.loads(json_str)\n",
    "\n",
    "    json_dict = process_json(json_dict)\n",
    "    flattened_json = pd.json_normalize(json_dict[\"results\"][\"listings\"])\n",
    "    return flattened_json\n",
    "\n",
    "\n",
    "def get_page_info(s_url: str, e_url: str, pages: int, columns: list):\n",
    "    result = []\n",
    "\n",
    "    for city in tqdm(CITYS):\n",
    "        for page in range(1, pages + 1):\n",
    "            try:\n",
    "                response = rq.get(s_url + city + e_url + str(page), headers=HEADERS)\n",
    "            except Exception as e:\n",
    "                print(e)\n",
    "                time.sleep(1000)\n",
    "\n",
    "            if response.status_code == 200:\n",
    "                try:\n",
    "                    html = str(response.text)\n",
    "                    result.append(get_house_info(html))\n",
    "                except:\n",
    "                    pass\n",
    "    data = pd.concat(result, ignore_index=True)\n",
    "    if columns:\n",
    "        data = data[columns]\n",
    "\n",
    "    return data"
   ]
  },
  {
   "attachments": {},
   "cell_type": "markdown",
   "metadata": {},
   "source": [
    "#### Extract Data"
   ]
  },
  {
   "cell_type": "code",
   "execution_count": 63,
   "metadata": {},
   "outputs": [
    {
     "name": "stderr",
     "output_type": "stream",
     "text": [
      "100%|██████████| 41/41 [28:59<00:00, 42.44s/it]  \n"
     ]
    }
   ],
   "source": [
    "raw_data = get_page_info(S_URL, E_URL, pages, [])"
   ]
  },
  {
   "cell_type": "code",
   "execution_count": 64,
   "metadata": {},
   "outputs": [
    {
     "data": {
      "text/plain": [
       "11724"
      ]
     },
     "execution_count": 64,
     "metadata": {},
     "output_type": "execute_result"
    }
   ],
   "source": [
    "len(raw_data)"
   ]
  },
  {
   "cell_type": "code",
   "execution_count": 65,
   "metadata": {},
   "outputs": [],
   "source": [
    "citys = [city.lower() for city in list(raw_data[\"link.data.city\"].unique())]"
   ]
  },
  {
   "cell_type": "code",
   "execution_count": 66,
   "metadata": {},
   "outputs": [
    {
     "data": {
      "text/plain": [
       "5"
      ]
     },
     "execution_count": 66,
     "metadata": {},
     "output_type": "execute_result"
    }
   ],
   "source": [
    "len(citys)"
   ]
  },
  {
   "cell_type": "code",
   "execution_count": 67,
   "metadata": {},
   "outputs": [
    {
     "data": {
      "text/plain": [
       "{'acarau',\n",
       " 'amontada',\n",
       " 'aquiraz',\n",
       " 'aracati',\n",
       " 'barbalha',\n",
       " 'beberibe',\n",
       " 'cascavel',\n",
       " 'caucaia',\n",
       " 'crato',\n",
       " 'cruz',\n",
       " 'eusebio',\n",
       " 'fortim',\n",
       " 'guaiuba',\n",
       " 'guaramiranga',\n",
       " 'horizonte',\n",
       " 'irauçuba',\n",
       " 'itapipoca',\n",
       " 'itarema',\n",
       " 'jijoca_de_jericoacoara',\n",
       " 'juazeiro_do_norte',\n",
       " 'maracanau',\n",
       " 'maranguape',\n",
       " 'milagres',\n",
       " 'missao_velha',\n",
       " 'pacajus',\n",
       " 'pacatuba',\n",
       " 'pacoti',\n",
       " 'paracuru',\n",
       " 'paraipaba',\n",
       " 'pentecoste',\n",
       " 'pindoretama',\n",
       " 'quixeramobim',\n",
       " 'sao_gonçalo_do_amarante',\n",
       " 'sobral',\n",
       " 'tabuleiro_do_norte',\n",
       " 'umirim'}"
      ]
     },
     "execution_count": 67,
     "metadata": {},
     "output_type": "execute_result"
    }
   ],
   "source": [
    "set(CITYS) - set(citys)"
   ]
  },
  {
   "attachments": {},
   "cell_type": "markdown",
   "metadata": {},
   "source": [
    "#### Save Data"
   ]
  },
  {
   "cell_type": "code",
   "execution_count": 10,
   "metadata": {},
   "outputs": [],
   "source": [
    "raw_data.to_csv(f\"../data/raw_data/ce_raw_data_{len(raw_data)}.csv\", index=False)"
   ]
  },
  {
   "cell_type": "code",
   "execution_count": null,
   "metadata": {},
   "outputs": [],
   "source": []
  },
  {
   "cell_type": "code",
   "execution_count": null,
   "metadata": {},
   "outputs": [],
   "source": []
  },
  {
   "cell_type": "code",
   "execution_count": null,
   "metadata": {},
   "outputs": [],
   "source": []
  },
  {
   "cell_type": "code",
   "execution_count": null,
   "metadata": {},
   "outputs": [],
   "source": []
  },
  {
   "cell_type": "code",
   "execution_count": null,
   "metadata": {},
   "outputs": [],
   "source": []
  },
  {
   "cell_type": "code",
   "execution_count": null,
   "metadata": {},
   "outputs": [],
   "source": []
  }
 ],
 "metadata": {
  "kernelspec": {
   "display_name": "venv",
   "language": "python",
   "name": "python3"
  },
  "language_info": {
   "codemirror_mode": {
    "name": "ipython",
    "version": 3
   },
   "file_extension": ".py",
   "mimetype": "text/x-python",
   "name": "python",
   "nbconvert_exporter": "python",
   "pygments_lexer": "ipython3",
   "version": "3.8.10"
  },
  "orig_nbformat": 4
 },
 "nbformat": 4,
 "nbformat_minor": 2
}
