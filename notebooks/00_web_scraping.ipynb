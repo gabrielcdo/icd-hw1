{
 "cells": [
  {
   "cell_type": "code",
   "execution_count": 17,
   "metadata": {},
   "outputs": [
    {
     "name": "stdout",
     "output_type": "stream",
     "text": [
      "The autoreload extension is already loaded. To reload it, use:\n",
      "  %reload_ext autoreload\n",
      "The jupyter_black extension is already loaded. To reload it, use:\n",
      "  %reload_ext jupyter_black\n"
     ]
    }
   ],
   "source": [
    "%load_ext autoreload\n",
    "%autoreload 2\n",
    "%load_ext jupyter_black"
   ]
  },
  {
   "attachments": {},
   "cell_type": "markdown",
   "metadata": {},
   "source": [
    "## Web Scrapping"
   ]
  },
  {
   "cell_type": "code",
   "execution_count": 18,
   "metadata": {},
   "outputs": [],
   "source": [
    "import requests as rq\n",
    "import json\n",
    "import pandas as pd\n",
    "import numpy as np"
   ]
  },
  {
   "cell_type": "code",
   "execution_count": 19,
   "metadata": {},
   "outputs": [],
   "source": [
    "USER_AGENT = \"Mozilla/5.0 (Macintosh; Intel Mac OS X 10_9_3) AppleWebKit/537.36 (KHTML, like Gecko) Chrome/35.0.1916.47 Safari/537.36\"\n",
    "HEADERS = {\"User-Agent\": USER_AGENT}"
   ]
  },
  {
   "cell_type": "code",
   "execution_count": 29,
   "metadata": {},
   "outputs": [],
   "source": [
    "URL = \"https://www.zapimoveis.com.br/venda/casas/?pagina=\"\n",
    "pages = [str(i) for i in range(1, 201)]"
   ]
  },
  {
   "cell_type": "code",
   "execution_count": 30,
   "metadata": {},
   "outputs": [],
   "source": [
    "def process_json(json_dict):\n",
    "    results_listining = json_dict[\"results\"][\"listings\"]\n",
    "    for i, house in enumerate(results_listining):\n",
    "        parking_spaces = results_listining[i][\"listing\"][\"parkingSpaces\"]\n",
    "        results_listining[i][\"listing\"][\"parkingSpaces\"] = (\n",
    "            int(parking_spaces[0]) if parking_spaces else np.nan\n",
    "        )\n",
    "        suites = results_listining[i][\"listing\"][\"suites\"]\n",
    "        results_listining[i][\"listing\"][\"suites\"] = int(suites[0]) if suites else np.nan\n",
    "        bathrooms = results_listining[i][\"listing\"][\"bathrooms\"]\n",
    "        results_listining[i][\"listing\"][\"bathrooms\"] = (\n",
    "            int(bathrooms[0]) if bathrooms else np.nan\n",
    "        )\n",
    "        bedrooms = results_listining[i][\"listing\"][\"bedrooms\"]\n",
    "        results_listining[i][\"listing\"][\"bedrooms\"] = (\n",
    "            int(bedrooms[0]) if bedrooms else np.nan\n",
    "        )\n",
    "        usable_areas = results_listining[i][\"listing\"][\"usableAreas\"]\n",
    "        results_listining[i][\"listing\"][\"usableAreas\"] = (\n",
    "            int(usable_areas[0]) if usable_areas else np.nan\n",
    "        )\n",
    "\n",
    "        total_areas = results_listining[i][\"listing\"][\"totalAreas\"]\n",
    "        results_listining[i][\"listing\"][\"totalAreas\"] = (\n",
    "            int(total_areas[0]) if total_areas else np.nan\n",
    "        )\n",
    "        iptu = results_listining[i][\"listing\"][\"pricingInfo\"][\"yearlyIptu\"]\n",
    "        results_listining[i][\"listing\"][\"pricingInfo\"][\"yearlyIptu\"] = (\n",
    "            float(iptu.replace(\"R$ \", \"\").replace(\".\", \"\")) if iptu else np.nan\n",
    "        )\n",
    "\n",
    "    json_dict[\"results\"][\"listings\"] = results_listining\n",
    "    return json_dict"
   ]
  },
  {
   "cell_type": "code",
   "execution_count": 31,
   "metadata": {},
   "outputs": [],
   "source": [
    "def get_house_info(html: str):\n",
    "    json_start = html.find('\"results\":{\"listings\"')\n",
    "    json_end = html.find(\";(function(){var s\")\n",
    "\n",
    "    json_str = \"{\" + html[json_start:json_end]\n",
    "\n",
    "    json_dict = json.loads(json_str)\n",
    "    json_dict = process_json(json_dict)\n",
    "    flattened_json = pd.json_normalize(json_dict[\"results\"][\"listings\"])\n",
    "    return flattened_json\n",
    "\n",
    "\n",
    "def get_page_info(url: str, pages: list, columns: list):\n",
    "    result = []\n",
    "    for page in pages:\n",
    "        response = rq.get(URL + page, headers=HEADERS)\n",
    "        if response.status_code == 200:\n",
    "            html = str(response.text)\n",
    "            result.append(get_house_info(html))\n",
    "\n",
    "    data = pd.concat(result, ignore_index=True)\n",
    "    if columns:\n",
    "        data = data[columns]\n",
    "\n",
    "    return data"
   ]
  },
  {
   "attachments": {},
   "cell_type": "markdown",
   "metadata": {},
   "source": [
    "#### Extract Data"
   ]
  },
  {
   "cell_type": "code",
   "execution_count": 32,
   "metadata": {},
   "outputs": [],
   "source": [
    "raw_data = get_page_info(URL, pages, [])"
   ]
  },
  {
   "attachments": {},
   "cell_type": "markdown",
   "metadata": {},
   "source": [
    "#### Save Data"
   ]
  },
  {
   "cell_type": "code",
   "execution_count": null,
   "metadata": {},
   "outputs": [],
   "source": [
    "raw_data.to_csv(f\"raw_data_{len(raw_data)}.csv\", index=False)"
   ]
  }
 ],
 "metadata": {
  "kernelspec": {
   "display_name": "venv",
   "language": "python",
   "name": "python3"
  },
  "language_info": {
   "codemirror_mode": {
    "name": "ipython",
    "version": 3
   },
   "file_extension": ".py",
   "mimetype": "text/x-python",
   "name": "python",
   "nbconvert_exporter": "python",
   "pygments_lexer": "ipython3",
   "version": "3.8.10"
  },
  "orig_nbformat": 4
 },
 "nbformat": 4,
 "nbformat_minor": 2
}
