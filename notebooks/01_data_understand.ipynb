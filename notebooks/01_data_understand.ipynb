{
 "cells": [
  {
   "cell_type": "code",
   "execution_count": 2,
   "metadata": {},
   "outputs": [
    {
     "data": {
      "text/html": [
       "\n",
       "                <script type=\"application/javascript\" id=\"jupyter_black\">\n",
       "                (function() {\n",
       "                    if (window.IPython === undefined) {\n",
       "                        return\n",
       "                    }\n",
       "                    var msg = \"WARNING: it looks like you might have loaded \" +\n",
       "                        \"jupyter_black in a non-lab notebook with \" +\n",
       "                        \"`is_lab=True`. Please double check, and if \" +\n",
       "                        \"loading with `%load_ext` please review the README!\"\n",
       "                    console.log(msg)\n",
       "                    alert(msg)\n",
       "                })()\n",
       "                </script>\n",
       "                "
      ],
      "text/plain": [
       "<IPython.core.display.HTML object>"
      ]
     },
     "metadata": {},
     "output_type": "display_data"
    }
   ],
   "source": [
    "%load_ext autoreload\n",
    "%autoreload 2\n",
    "%load_ext jupyter_black"
   ]
  },
  {
   "cell_type": "code",
   "execution_count": 3,
   "metadata": {},
   "outputs": [],
   "source": [
    "import pandas as pd\n",
    "import matplotlib.pyplot as plt\n",
    "import numpy as np"
   ]
  },
  {
   "cell_type": "code",
   "execution_count": 4,
   "metadata": {},
   "outputs": [
    {
     "name": "stderr",
     "output_type": "stream",
     "text": [
      "/tmp/ipykernel_6172/3972360842.py:2: DtypeWarning: Columns (57,71) have mixed types. Specify dtype option on import or set low_memory=False.\n",
      "  raw_data = pd.read_csv(f\"../data/raw_data/ce_raw_data_{data_size}.csv\")\n"
     ]
    }
   ],
   "source": [
    "data_size = 11632\n",
    "raw_data = pd.read_csv(f\"../data/raw_data/ce_raw_data_{data_size}.csv\")"
   ]
  },
  {
   "cell_type": "code",
   "execution_count": 5,
   "metadata": {},
   "outputs": [],
   "source": [
    "# Exemplo de manipulação de colunas\n",
    "raw_data.rename(\n",
    "    columns={\n",
    "        \"listing.pricingInfo.rawPrice\": \"price\",\n",
    "        \"link.data.city\": \"city\",\n",
    "        \"link.data.state\": \"state\",\n",
    "        \"link.data.neighborhood\": \"neighborhood\",\n",
    "        \"listing.usableAreas\": \"usable_areas\",\n",
    "        \"listing.totalAreas\": \"total_areas\",\n",
    "        \"listing.parkingSpaces\": \"parking_spaces\",\n",
    "        \"listing.suites\": \"suites\",\n",
    "        \"listing.bathrooms\": \"bathrooms\",\n",
    "        \"listing.bedrooms\": \"bedrooms\",\n",
    "    },\n",
    "    inplace=True,\n",
    ")"
   ]
  },
  {
   "cell_type": "code",
   "execution_count": 6,
   "metadata": {},
   "outputs": [],
   "source": [
    "cols_to_select = [\n",
    "    \"price\",\n",
    "    \"city\",\n",
    "    \"state\",\n",
    "    \"neighborhood\",\n",
    "    \"usable_areas\",\n",
    "    \"total_areas\",\n",
    "    \"parking_spaces\",\n",
    "    \"suites\",\n",
    "    \"bathrooms\",\n",
    "    \"bedrooms\",\n",
    "]\n",
    "numeric_cols = [\n",
    "    \"price\",\n",
    "    \"usable_areas\",\n",
    "    \"total_areas\",\n",
    "    \"parking_spaces\",\n",
    "    \"suites\",\n",
    "    \"bathrooms\",\n",
    "    \"bedrooms\",\n",
    "]"
   ]
  },
  {
   "cell_type": "code",
   "execution_count": 7,
   "metadata": {},
   "outputs": [],
   "source": [
    "data = raw_data[cols_to_select]"
   ]
  },
  {
   "cell_type": "code",
   "execution_count": 8,
   "metadata": {},
   "outputs": [
    {
     "data": {
      "text/plain": [
       "(11632, 10)"
      ]
     },
     "execution_count": 8,
     "metadata": {},
     "output_type": "execute_result"
    }
   ],
   "source": [
    "data.shape"
   ]
  },
  {
   "attachments": {},
   "cell_type": "markdown",
   "metadata": {},
   "source": [
    "### Check for missing values "
   ]
  },
  {
   "cell_type": "code",
   "execution_count": 9,
   "metadata": {},
   "outputs": [
    {
     "data": {
      "text/plain": [
       "price             1830\n",
       "city                 5\n",
       "state                1\n",
       "neighborhood       174\n",
       "usable_areas       647\n",
       "total_areas        756\n",
       "parking_spaces      23\n",
       "suites              13\n",
       "bathrooms           16\n",
       "bedrooms            16\n",
       "dtype: int64"
      ]
     },
     "execution_count": 9,
     "metadata": {},
     "output_type": "execute_result"
    }
   ],
   "source": [
    "data.nunique()"
   ]
  },
  {
   "cell_type": "code",
   "execution_count": 10,
   "metadata": {},
   "outputs": [],
   "source": [
    "data = data.dropna()"
   ]
  },
  {
   "cell_type": "code",
   "execution_count": 11,
   "metadata": {},
   "outputs": [
    {
     "data": {
      "text/plain": [
       "8310"
      ]
     },
     "execution_count": 11,
     "metadata": {},
     "output_type": "execute_result"
    }
   ],
   "source": [
    "len(data)"
   ]
  },
  {
   "cell_type": "code",
   "execution_count": 12,
   "metadata": {},
   "outputs": [],
   "source": [
    "for col in numeric_cols:\n",
    "    data[col] = data[col].astype(int)"
   ]
  },
  {
   "cell_type": "code",
   "execution_count": 13,
   "metadata": {},
   "outputs": [
    {
     "data": {
      "text/plain": [
       "array([[<Axes: title={'center': 'price'}>,\n",
       "        <Axes: title={'center': 'usable_areas'}>,\n",
       "        <Axes: title={'center': 'total_areas'}>],\n",
       "       [<Axes: title={'center': 'parking_spaces'}>,\n",
       "        <Axes: title={'center': 'suites'}>,\n",
       "        <Axes: title={'center': 'bathrooms'}>],\n",
       "       [<Axes: title={'center': 'bedrooms'}>, <Axes: >, <Axes: >]],\n",
       "      dtype=object)"
      ]
     },
     "execution_count": 13,
     "metadata": {},
     "output_type": "execute_result"
    },
    {
     "data": {
      "image/png": "[encoded data removed]",
      "text/plain": [
       "<Figure size 1600x2000 with 9 Axes>"
      ]
     },
     "metadata": {},
     "output_type": "display_data"
    }
   ],
   "source": [
    "data[numeric_cols].hist(figsize=(16, 20), bins=50, xlabelsize=8, ylabelsize=8)\n",
    "# Visualização dos histogramas no permite concluir que há grandes outliers nas\n",
    "# variáveis price, usable_areas, total_areas"
   ]
  },
  {
   "attachments": {},
   "cell_type": "markdown",
   "metadata": {},
   "source": [
    "### Visualize Outliers"
   ]
  },
  {
   "attachments": {},
   "cell_type": "markdown",
   "metadata": {},
   "source": [
    "<img src=\"images/0_Zz3XmuErUXmIcy6C.webp\" alt=\"Some Text\" width=\"400\" height=\"250\">"
   ]
  },
  {
   "cell_type": "code",
   "execution_count": 14,
   "metadata": {},
   "outputs": [
    {
     "data": {
      "image/png": "[encoded data removed]",
      "text/plain": [
       "<Figure size 1000x1000 with 9 Axes>"
      ]
     },
     "metadata": {},
     "output_type": "display_data"
    }
   ],
   "source": [
    "fig, axes = plt.subplots(nrows=3, ncols=3, figsize=(10, 10))\n",
    "fig.subplots_adjust(wspace=0.3)\n",
    "fig.suptitle(\"Before removing outliers\")\n",
    "for i, col in enumerate(numeric_cols):\n",
    "    if data[col].dtype != \"object\":\n",
    "        data[col].plot(kind=\"box\", ax=axes[i // 3, i % 3])\n",
    "axes[2, 2].set_visible(False)\n",
    "axes[2, 1].set_visible(False)"
   ]
  },
  {
   "cell_type": "code",
   "execution_count": 15,
   "metadata": {},
   "outputs": [],
   "source": [
    "# Specify the columns to remove outliers from\n",
    "cols_to_clean = [\n",
    "    \"price\",\n",
    "    \"usable_areas\",\n",
    "    \"total_areas\",\n",
    "]\n",
    "\n",
    "# Define the lower and upper bounds for filtering outliers\n",
    "quantiles = data[cols_to_clean].quantile([0.05, 0.95])\n",
    "lower_bound = quantiles.loc[0.05]\n",
    "upper_bound = quantiles.loc[0.95]\n",
    "\n",
    "# Filter out the outliers from each specified column\n",
    "for col in cols_to_clean:\n",
    "    data = data[(data[col] > lower_bound[col]) & (data[col] < upper_bound[col])]"
   ]
  },
  {
   "cell_type": "code",
   "execution_count": 16,
   "metadata": {},
   "outputs": [
    {
     "data": {
      "image/png": "[encoded data removed]",
      "text/plain": [
       "<Figure size 1000x1000 with 9 Axes>"
      ]
     },
     "metadata": {},
     "output_type": "display_data"
    }
   ],
   "source": [
    "import matplotlib.pyplot as plt\n",
    "import numpy as np\n",
    "\n",
    "\n",
    "fig, axes = plt.subplots(nrows=3, ncols=3, figsize=(10, 10))\n",
    "fig.subplots_adjust(wspace=0.3)\n",
    "\n",
    "fig.suptitle(\"After removing outliers\")\n",
    "\n",
    "for i, col in enumerate(numeric_cols):\n",
    "    if data[col].dtype != \"object\":\n",
    "        data[col].plot(kind=\"box\", ax=axes[i // 3, i % 3])\n",
    "axes[2, 2].set_visible(False)\n",
    "axes[2, 1].set_visible(False)"
   ]
  },
  {
   "cell_type": "code",
   "execution_count": 17,
   "metadata": {},
   "outputs": [],
   "source": [
    "from sklearn.preprocessing import StandardScaler, MinMaxScaler\n",
    "\n",
    "# create a StandardScaler object\n",
    "scaler = StandardScaler()\n",
    "\n",
    "# create a MinMaxScaler object\n",
    "minmax_scaler = MinMaxScaler()\n",
    "\n",
    "# select the columns to normalize/standardize\n",
    "cols_to_standardize = [\n",
    "    \"usable_areas\",\n",
    "    \"total_areas\",\n",
    "]\n",
    "# cols_to_standardize = [\"price\"]\n",
    "_data = data.copy()\n",
    "# normalize the selected columns\n",
    "_data[cols_to_standardize] = minmax_scaler.fit_transform(data[cols_to_standardize])\n",
    "\n",
    "# # standardize the selected columns\n",
    "# data[cols_to_standardize] = scaler.fit_transform(data[cols_to_standardize])"
   ]
  },
  {
   "cell_type": "code",
   "execution_count": 18,
   "metadata": {},
   "outputs": [
    {
     "data": {
      "text/plain": [
       "array([[<Axes: title={'center': 'price'}>,\n",
       "        <Axes: title={'center': 'usable_areas'}>,\n",
       "        <Axes: title={'center': 'total_areas'}>],\n",
       "       [<Axes: title={'center': 'parking_spaces'}>,\n",
       "        <Axes: title={'center': 'suites'}>,\n",
       "        <Axes: title={'center': 'bathrooms'}>],\n",
       "       [<Axes: title={'center': 'bedrooms'}>, <Axes: >, <Axes: >]],\n",
       "      dtype=object)"
      ]
     },
     "execution_count": 18,
     "metadata": {},
     "output_type": "execute_result"
    },
    {
     "data": {
      "image/png": "[encoded data removed]",
      "text/plain": [
       "<Figure size 1600x2000 with 9 Axes>"
      ]
     },
     "metadata": {},
     "output_type": "display_data"
    }
   ],
   "source": [
    "_data[numeric_cols].hist(figsize=(16, 20), bins=30, xlabelsize=8, ylabelsize=8)"
   ]
  },
  {
   "cell_type": "code",
   "execution_count": 19,
   "metadata": {},
   "outputs": [
    {
     "data": {
      "text/html": [
       "<div>\n",
       "<style scoped>\n",
       "    .dataframe tbody tr th:only-of-type {\n",
       "        vertical-align: middle;\n",
       "    }\n",
       "\n",
       "    .dataframe tbody tr th {\n",
       "        vertical-align: top;\n",
       "    }\n",
       "\n",
       "    .dataframe thead th {\n",
       "        text-align: right;\n",
       "    }\n",
       "</style>\n",
       "<table border=\"1\" class=\"dataframe\">\n",
       "  <thead>\n",
       "    <tr style=\"text-align: right;\">\n",
       "      <th></th>\n",
       "      <th>price</th>\n",
       "      <th>usable_areas</th>\n",
       "      <th>total_areas</th>\n",
       "      <th>parking_spaces</th>\n",
       "      <th>suites</th>\n",
       "      <th>bathrooms</th>\n",
       "      <th>bedrooms</th>\n",
       "    </tr>\n",
       "  </thead>\n",
       "  <tbody>\n",
       "    <tr>\n",
       "      <th>1</th>\n",
       "      <td>705000</td>\n",
       "      <td>93</td>\n",
       "      <td>93</td>\n",
       "      <td>2</td>\n",
       "      <td>3</td>\n",
       "      <td>3</td>\n",
       "      <td>3</td>\n",
       "    </tr>\n",
       "    <tr>\n",
       "      <th>3</th>\n",
       "      <td>678417</td>\n",
       "      <td>54</td>\n",
       "      <td>54</td>\n",
       "      <td>1</td>\n",
       "      <td>2</td>\n",
       "      <td>2</td>\n",
       "      <td>2</td>\n",
       "    </tr>\n",
       "    <tr>\n",
       "      <th>5</th>\n",
       "      <td>330000</td>\n",
       "      <td>70</td>\n",
       "      <td>124</td>\n",
       "      <td>2</td>\n",
       "      <td>1</td>\n",
       "      <td>2</td>\n",
       "      <td>3</td>\n",
       "    </tr>\n",
       "    <tr>\n",
       "      <th>6</th>\n",
       "      <td>550000</td>\n",
       "      <td>160</td>\n",
       "      <td>160</td>\n",
       "      <td>3</td>\n",
       "      <td>4</td>\n",
       "      <td>4</td>\n",
       "      <td>4</td>\n",
       "    </tr>\n",
       "    <tr>\n",
       "      <th>7</th>\n",
       "      <td>650000</td>\n",
       "      <td>112</td>\n",
       "      <td>112</td>\n",
       "      <td>2</td>\n",
       "      <td>3</td>\n",
       "      <td>4</td>\n",
       "      <td>4</td>\n",
       "    </tr>\n",
       "    <tr>\n",
       "      <th>...</th>\n",
       "      <td>...</td>\n",
       "      <td>...</td>\n",
       "      <td>...</td>\n",
       "      <td>...</td>\n",
       "      <td>...</td>\n",
       "      <td>...</td>\n",
       "      <td>...</td>\n",
       "    </tr>\n",
       "    <tr>\n",
       "      <th>11577</th>\n",
       "      <td>52000</td>\n",
       "      <td>200</td>\n",
       "      <td>200</td>\n",
       "      <td>0</td>\n",
       "      <td>0</td>\n",
       "      <td>0</td>\n",
       "      <td>0</td>\n",
       "    </tr>\n",
       "    <tr>\n",
       "      <th>11581</th>\n",
       "      <td>62000</td>\n",
       "      <td>200</td>\n",
       "      <td>200</td>\n",
       "      <td>0</td>\n",
       "      <td>0</td>\n",
       "      <td>0</td>\n",
       "      <td>0</td>\n",
       "    </tr>\n",
       "    <tr>\n",
       "      <th>11598</th>\n",
       "      <td>1300000</td>\n",
       "      <td>237</td>\n",
       "      <td>390</td>\n",
       "      <td>4</td>\n",
       "      <td>3</td>\n",
       "      <td>5</td>\n",
       "      <td>4</td>\n",
       "    </tr>\n",
       "    <tr>\n",
       "      <th>11609</th>\n",
       "      <td>395560</td>\n",
       "      <td>396</td>\n",
       "      <td>396</td>\n",
       "      <td>0</td>\n",
       "      <td>0</td>\n",
       "      <td>0</td>\n",
       "      <td>0</td>\n",
       "    </tr>\n",
       "    <tr>\n",
       "      <th>11614</th>\n",
       "      <td>300000</td>\n",
       "      <td>80</td>\n",
       "      <td>180</td>\n",
       "      <td>1</td>\n",
       "      <td>2</td>\n",
       "      <td>2</td>\n",
       "      <td>2</td>\n",
       "    </tr>\n",
       "  </tbody>\n",
       "</table>\n",
       "<p>6595 rows × 7 columns</p>\n",
       "</div>"
      ],
      "text/plain": [
       "         price  usable_areas  total_areas  parking_spaces  suites  bathrooms   \n",
       "1       705000            93           93               2       3          3  \\\n",
       "3       678417            54           54               1       2          2   \n",
       "5       330000            70          124               2       1          2   \n",
       "6       550000           160          160               3       4          4   \n",
       "7       650000           112          112               2       3          4   \n",
       "...        ...           ...          ...             ...     ...        ...   \n",
       "11577    52000           200          200               0       0          0   \n",
       "11581    62000           200          200               0       0          0   \n",
       "11598  1300000           237          390               4       3          5   \n",
       "11609   395560           396          396               0       0          0   \n",
       "11614   300000            80          180               1       2          2   \n",
       "\n",
       "       bedrooms  \n",
       "1             3  \n",
       "3             2  \n",
       "5             3  \n",
       "6             4  \n",
       "7             4  \n",
       "...         ...  \n",
       "11577         0  \n",
       "11581         0  \n",
       "11598         4  \n",
       "11609         0  \n",
       "11614         2  \n",
       "\n",
       "[6595 rows x 7 columns]"
      ]
     },
     "execution_count": 19,
     "metadata": {},
     "output_type": "execute_result"
    }
   ],
   "source": [
    "data[numeric_cols]"
   ]
  },
  {
   "cell_type": "code",
   "execution_count": 20,
   "metadata": {},
   "outputs": [
    {
     "data": {
      "text/plain": [
       "<Axes: >"
      ]
     },
     "execution_count": 20,
     "metadata": {},
     "output_type": "execute_result"
    },
    {
     "data": {
      "image/png": "[encoded data removed]",
      "text/plain": [
       "<Figure size 640x480 with 2 Axes>"
      ]
     },
     "metadata": {},
     "output_type": "display_data"
    }
   ],
   "source": [
    "import seaborn as sns\n",
    "\n",
    "sns.heatmap(data[numeric_cols].corr(), annot=True)"
   ]
  },
  {
   "attachments": {},
   "cell_type": "markdown",
   "metadata": {},
   "source": [
    "### Visualize Normal distribution"
   ]
  },
  {
   "cell_type": "code",
   "execution_count": 21,
   "metadata": {},
   "outputs": [
    {
     "data": {
      "image/png": "[encoded data removed]",
      "text/plain": [
       "<Figure size 1000x1000 with 4 Axes>"
      ]
     },
     "metadata": {},
     "output_type": "display_data"
    }
   ],
   "source": [
    "import matplotlib.pyplot as plt\n",
    "\n",
    "fig, axes = plt.subplots(nrows=2, ncols=2, figsize=(10, 10))\n",
    "cols_to_plot = [\n",
    "    \"parking_spaces\",\n",
    "    \"suites\",\n",
    "    \"bathrooms\",\n",
    "    \"bedrooms\",\n",
    "]\n",
    "for i, col in enumerate(cols_to_plot):\n",
    "    counts = data[col].value_counts().sort_index()\n",
    "    counts.plot(kind=\"bar\", ax=axes[i % 2, i // 2])\n",
    "plt.show()"
   ]
  },
  {
   "cell_type": "code",
   "execution_count": 22,
   "metadata": {},
   "outputs": [],
   "source": [
    "data[\"price_per_m2\"] = data[\"price\"] / data[\"usable_areas\"]"
   ]
  },
  {
   "cell_type": "code",
   "execution_count": 23,
   "metadata": {},
   "outputs": [
    {
     "data": {
      "image/png": "[encoded data removed]",
      "text/plain": [
       "<Figure size 1200x800 with 1 Axes>"
      ]
     },
     "metadata": {},
     "output_type": "display_data"
    }
   ],
   "source": [
    "import matplotlib.pyplot as plt\n",
    "\n",
    "# Group by state and get average price for each state\n",
    "grouped = data.groupby(\"state\")[\"price_per_m2\"].mean().reset_index()\n",
    "\n",
    "# Sort by price in ascending order to get the cheapest states\n",
    "sorted_grouped = grouped.sort_values(by=\"price_per_m2\", ascending=True)\n",
    "\n",
    "# Create a bar chart for the mean house prices by state\n",
    "plt.figure(figsize=(12, 8))\n",
    "plt.barh(sorted_grouped[\"state\"], sorted_grouped[\"price_per_m2\"])\n",
    "plt.xlabel(\"price_per_m2\")\n",
    "plt.ylabel(\"State\")\n",
    "plt.title(\"Mean House Prices per m2 by State in Brazil\")\n",
    "plt.show()"
   ]
  },
  {
   "cell_type": "code",
   "execution_count": 27,
   "metadata": {},
   "outputs": [
    {
     "data": {
      "image/png": "[encoded data removed]",
      "text/plain": [
       "<Figure size 1200x800 with 1 Axes>"
      ]
     },
     "metadata": {},
     "output_type": "display_data"
    }
   ],
   "source": [
    "import matplotlib.pyplot as plt\n",
    "\n",
    "# Group by state and get average price for each state\n",
    "grouped = data.groupby(\"neighborhood\")[\"price_per_m2\"].mean().reset_index()\n",
    "\n",
    "# Sort by price in ascending order to get the cheapest states\n",
    "sorted_grouped = grouped.sort_values(by=\"price_per_m2\", ascending=True).head(30)\n",
    "\n",
    "# Create a bar chart for the mean house prices by state\n",
    "plt.figure(figsize=(12, 8))\n",
    "plt.barh(sorted_grouped[\"neighborhood\"], sorted_grouped[\"price_per_m2\"])\n",
    "plt.xlabel(\"price_per_m2\")\n",
    "plt.ylabel(\"neighborhood\")\n",
    "plt.title(\"Mean House Prices per m2 by neighborhood in Brazil\")\n",
    "plt.show()"
   ]
  },
  {
   "cell_type": "code",
   "execution_count": 28,
   "metadata": {},
   "outputs": [
    {
     "data": {
      "image/png": "[encoded data removed]",
      "text/plain": [
       "<Figure size 1200x800 with 1 Axes>"
      ]
     },
     "metadata": {},
     "output_type": "display_data"
    }
   ],
   "source": [
    "import matplotlib.pyplot as plt\n",
    "\n",
    "# Group by state and get average price for each state\n",
    "grouped = data.groupby(\"city\")[\"price_per_m2\"].mean().reset_index()\n",
    "\n",
    "# Sort by price in ascending order to get the cheapest states\n",
    "sorted_grouped = grouped.sort_values(by=\"price_per_m2\", ascending=True)\n",
    "\n",
    "# Create a bar chart for the mean house prices by state\n",
    "plt.figure(figsize=(12, 8))\n",
    "plt.barh(sorted_grouped[\"city\"], sorted_grouped[\"price_per_m2\"])\n",
    "plt.xlabel(\"price_per_m2\")\n",
    "plt.ylabel(\"State\")\n",
    "plt.title(\"Mean House Prices per m2 by city in Brazil\")\n",
    "plt.show()"
   ]
  },
  {
   "cell_type": "code",
   "execution_count": 31,
   "metadata": {},
   "outputs": [
    {
     "data": {
      "text/plain": [
       "array(['Fortaleza', 'Itaitinga', 'Maranguape', 'Paraipaba'], dtype=object)"
      ]
     },
     "execution_count": 31,
     "metadata": {},
     "output_type": "execute_result"
    }
   ],
   "source": [
    "data[\"city\"].unique()"
   ]
  },
  {
   "attachments": {},
   "cell_type": "markdown",
   "metadata": {},
   "source": [
    "#### 2D PCA "
   ]
  },
  {
   "cell_type": "code",
   "execution_count": 32,
   "metadata": {},
   "outputs": [],
   "source": [
    "from sklearn.decomposition import PCA\n",
    "\n",
    "# Definir o número de componentes desejado\n",
    "n_components = 2\n",
    "\n",
    "# Aplicar o PCA\n",
    "pca = PCA(n_components=n_components)\n",
    "_data = data.drop([\"price\", \"city\", \"state\", \"price_per_m2\", \"neighborhood\"], axis=1)\n",
    "pca_data = pca.fit_transform(_data)"
   ]
  },
  {
   "cell_type": "code",
   "execution_count": 33,
   "metadata": {},
   "outputs": [],
   "source": [
    "pca_dataframe = pd.DataFrame(pca_data, columns=[\"pca1\", \"pca2\"])\n",
    "pca_dataframe[\"price\"] = data[\"price\"]"
   ]
  },
  {
   "cell_type": "code",
   "execution_count": 34,
   "metadata": {},
   "outputs": [
    {
     "data": {
      "application/vnd.plotly.v1+json": {
       "config": {
        "plotlyServerURL": "https://plot.ly"
       },
       "data": [
        {
         "hovertemplate": "pca1=%{x}<br>pca2=%{y}<br>price=%{marker.color}<extra></extra>",
         "legendgroup": "",
         "marker": {
          "color": [
           null,
           705000,
           null,
           678417,
           null,
           330000,
           550000,
           650000,
           450000,
           680000,
           165000,
           null,
           null,
           170000,
           161000,
           null,
           270000,
           null,
           null,
           599000,
           null,
           null,
           550000,
           380000,
           790000,
           250000,
           780000,
           540000,
           430000,
           135000,
           null,
           550000,
           180000,
           200000,
           190000,
           170000,
           790000,
           98093,
           165000,
           165000,
           160000,
           540000,
           null,
           null,
           1900000,
           380000,
           null,
           null,
           null,
           null,
           370000,
           null,
           220000,
           null,
           990000,
           155009,
           249990,
           390000,
           480000,
           null,
           360000,
           null,
           600000,
           null,
           913000,
           480000,
           150000,
           null,
           865000,
           570000,
           265000,
           null,
           null,
           null,
           null,
           2075000,
           173000,
           160000,
           160000,
           575000,
           null,
           null,
           350000,
           null,
           null,
           120000,
           164990,
           null,
           null,
           170000,
           165000,
           145000,
           1100000,
           null,
           null,
           175000,
           659000,
           135000,
           680000,
           null
          ],
          "coloraxis": "coloraxis",
          "symbol": "circle"
         },
         "mode": "markers",
         "name": "",
         "orientation": "v",
         "showlegend": false,
         "type": "scatter",
         "x": [
          -52.24101226469793,
          -107.06906346732569,
          -42.380916232566484,
          41.93639580503848,
          -25.53031123597076,
          -84.57924161951784,
          -2.5417415095452065,
          -12.703565985232952,
          -11.455798577839861,
          -35.987939122884676,
          -56.4677489807581,
          -69.10502235060079,
          48.95825751191066,
          98.12974433460708,
          -7.269202832212247,
          -78.94236156737773,
          27.878244904531517,
          -91.61519671750185,
          -87.39919419602602,
          -112.70113435721161,
          -84.57443245726364,
          -115.50587767253157,
          -84.56850742493305,
          -0.261622031427171,
          -84.5850991546596,
          -7.269202832212247,
          -29.098633280313123,
          -57.893034080837005,
          -34.111478849540816,
          -91.61519671750185,
          -60.68375150223393,
          48.96306667416487,
          -2.0675345076595124,
          -66.30989735978925,
          -71.94294912537389,
          -5.8590594961327565,
          -22.86242209690643,
          -91.61177002378597,
          13.794150548251507,
          -94.41658083629478,
          -107.07387262957991,
          16.629713978787525,
          -42.39774801558994,
          -81.75783907728248,
          -112.7059435194658,
          -56.4677489807581,
          -52.2506305892059,
          82.65552506569006,
          20.859929909161636,
          -13.3274496889295,
          -25.673090444556987,
          -10.201647808414586,
          -56.4677489807581,
          126.23259952455714,
          -112.7059435194658,
          -15.833718698300496,
          -108.47439764115097,
          -13.3274496889295,
          -24.394788695541344,
          -53.64634643852275,
          -111.29573268619751,
          294.9142546933911,
          -115.51180270486215,
          27.868960675673883,
          166.96272274795294,
          -5.864984528463347,
          426.10474160090496,
          -112.69520932488102,
          -80.36666579175787,
          -5.864984528463347,
          -84.5778591509795,
          13.85081166208199,
          -69.10983151285501,
          276.8475515668328,
          6.650989717660675,
          -115.51180270486215,
          -56.47255814301231,
          -46.624484731650575,
          -57.856423927668,
          -115.50587767253157,
          57.371360001496264,
          -10.208031170446766,
          -107.06906346732569,
          -77.54183655580665,
          -73.33064319658502,
          -77.56185497924908,
          -116.92194604094165,
          -93.00537415073653,
          -94.41658083629478,
          -25.533737929686623,
          -115.49521097513558,
          -62.09732153202928,
          -111.30060934564052,
          -60.677826469903344,
          -31.759169877344487,
          -73.32583403433082,
          208.15415074506302,
          -53.645298065635195,
          -69.10502235060079,
          -94.41658083629478
         ],
         "xaxis": "x",
         "y": [
          -5.664115371857102,
          0.4935693180523744,
          31.671702286861223,
          -16.230015695783525,
          -8.666424136610788,
          -2.0215910619380986,
          37.867114691948046,
          36.169516132374795,
          34.60674383342802,
          25.265465853100668,
          -5.176696259439423,
          -3.774880100127593,
          -17.01081731437639,
          -22.50979654473598,
          -10.704426901683517,
          -2.6728261916212195,
          -14.649273224719858,
          -1.2318499364030726,
          -1.7041587543343768,
          1.1384247031095254,
          -2.0279708065640767,
          1.4445666985409664,
          -2.0367013564201844,
          -11.469785727588558,
          -2.0213203342921964,
          -10.704426901683517,
          55.087141192297565,
          -5.0100497522076175,
          22.914927660054527,
          -1.2318499364030726,
          -4.7043874415081275,
          -17.017197059002367,
          48.50069259237863,
          -4.068262606307081,
          -3.4379760604402194,
          -10.868242918953262,
          28.058167733589787,
          -1.2341389710733517,
          -13.042130147001838,
          -0.9195371534317254,
          0.49994906267834593,
          -13.38951231592383,
          -6.774899830215296,
          -2.3515739017077126,
          1.144804447735494,
          -5.176696259439423,
          -5.651355882600865,
          -20.756507506546452,
          -13.868804104332746,
          36.95090228184819,
          28.373040278877316,
          39.44670178916665,
          -5.176696259439423,
          -25.637573413795074,
          1.144804447735494,
          40.09155717422382,
          0.6510055906961464,
          36.95090228184819,
          58.82800996331319,
          -5.506679099209047,
          0.9725286082555438,
          -44.58627659901988,
          1.4532972483970654,
          -14.646713462403687,
          90.04277203696334,
          -10.859512369097152,
          -16.580079325740932,
          1.1296941532534266,
          -2.491610845199113,
          -10.859512369097152,
          -2.0256817718937983,
          50.98107401524345,
          -3.7685003555016263,
          10.10476338120161,
          11.929146169547506,
          1.4532972483970654,
          -5.170316514813444,
          -6.287480717801906,
          -5.04310083113386,
          1.4445666985409664,
          -17.94011569867087,
          33.043971534481265,
          0.4935693180523825,
          -2.823882719639017,
          -3.2898117929443322,
          -2.8062126628407493,
          1.6171132656667984,
          -1.0961203346063522,
          -0.9195371534317254,
          -8.664135101940511,
          1.4379162262691099,
          -4.538282389568095,
          0.9873681750917298,
          -4.7131179913642365,
          37.59861754454015,
          -3.2961915375703215,
          -101.00412126122603,
          -5.500570082228965,
          -3.774880100127593,
          -0.9195371534317254
         ],
         "yaxis": "y"
        }
       ],
       "layout": {
        "coloraxis": {
         "colorbar": {
          "title": {
           "text": "price"
          }
         },
         "colorscale": [
          [
           0,
           "#0d0887"
          ],
          [
           0.1111111111111111,
           "#46039f"
          ],
          [
           0.2222222222222222,
           "#7201a8"
          ],
          [
           0.3333333333333333,
           "#9c179e"
          ],
          [
           0.4444444444444444,
           "#bd3786"
          ],
          [
           0.5555555555555556,
           "#d8576b"
          ],
          [
           0.6666666666666666,
           "#ed7953"
          ],
          [
           0.7777777777777778,
           "#fb9f3a"
          ],
          [
           0.8888888888888888,
           "#fdca26"
          ],
          [
           1,
           "#f0f921"
          ]
         ]
        },
        "legend": {
         "tracegroupgap": 0
        },
        "margin": {
         "t": 60
        },
        "template": {
         "data": {
          "bar": [
           {
            "error_x": {
             "color": "#2a3f5f"
            },
            "error_y": {
             "color": "#2a3f5f"
            },
            "marker": {
             "line": {
              "color": "#E5ECF6",
              "width": 0.5
             },
             "pattern": {
              "fillmode": "overlay",
              "size": 10,
              "solidity": 0.2
             }
            },
            "type": "bar"
           }
          ],
          "barpolar": [
           {
            "marker": {
             "line": {
              "color": "#E5ECF6",
              "width": 0.5
             },
             "pattern": {
              "fillmode": "overlay",
              "size": 10,
              "solidity": 0.2
             }
            },
            "type": "barpolar"
           }
          ],
          "carpet": [
           {
            "aaxis": {
             "endlinecolor": "#2a3f5f",
             "gridcolor": "white",
             "linecolor": "white",
             "minorgridcolor": "white",
             "startlinecolor": "#2a3f5f"
            },
            "baxis": {
             "endlinecolor": "#2a3f5f",
             "gridcolor": "white",
             "linecolor": "white",
             "minorgridcolor": "white",
             "startlinecolor": "#2a3f5f"
            },
            "type": "carpet"
           }
          ],
          "choropleth": [
           {
            "colorbar": {
             "outlinewidth": 0,
             "ticks": ""
            },
            "type": "choropleth"
           }
          ],
          "contour": [
           {
            "colorbar": {
             "outlinewidth": 0,
             "ticks": ""
            },
            "colorscale": [
             [
              0,
              "#0d0887"
             ],
             [
              0.1111111111111111,
              "#46039f"
             ],
             [
              0.2222222222222222,
              "#7201a8"
             ],
             [
              0.3333333333333333,
              "#9c179e"
             ],
             [
              0.4444444444444444,
              "#bd3786"
             ],
             [
              0.5555555555555556,
              "#d8576b"
             ],
             [
              0.6666666666666666,
              "#ed7953"
             ],
             [
              0.7777777777777778,
              "#fb9f3a"
             ],
             [
              0.8888888888888888,
              "#fdca26"
             ],
             [
              1,
              "#f0f921"
             ]
            ],
            "type": "contour"
           }
          ],
          "contourcarpet": [
           {
            "colorbar": {
             "outlinewidth": 0,
             "ticks": ""
            },
            "type": "contourcarpet"
           }
          ],
          "heatmap": [
           {
            "colorbar": {
             "outlinewidth": 0,
             "ticks": ""
            },
            "colorscale": [
             [
              0,
              "#0d0887"
             ],
             [
              0.1111111111111111,
              "#46039f"
             ],
             [
              0.2222222222222222,
              "#7201a8"
             ],
             [
              0.3333333333333333,
              "#9c179e"
             ],
             [
              0.4444444444444444,
              "#bd3786"
             ],
             [
              0.5555555555555556,
              "#d8576b"
             ],
             [
              0.6666666666666666,
              "#ed7953"
             ],
             [
              0.7777777777777778,
              "#fb9f3a"
             ],
             [
              0.8888888888888888,
              "#fdca26"
             ],
             [
              1,
              "#f0f921"
             ]
            ],
            "type": "heatmap"
           }
          ],
          "heatmapgl": [
           {
            "colorbar": {
             "outlinewidth": 0,
             "ticks": ""
            },
            "colorscale": [
             [
              0,
              "#0d0887"
             ],
             [
              0.1111111111111111,
              "#46039f"
             ],
             [
              0.2222222222222222,
              "#7201a8"
             ],
             [
              0.3333333333333333,
              "#9c179e"
             ],
             [
              0.4444444444444444,
              "#bd3786"
             ],
             [
              0.5555555555555556,
              "#d8576b"
             ],
             [
              0.6666666666666666,
              "#ed7953"
             ],
             [
              0.7777777777777778,
              "#fb9f3a"
             ],
             [
              0.8888888888888888,
              "#fdca26"
             ],
             [
              1,
              "#f0f921"
             ]
            ],
            "type": "heatmapgl"
           }
          ],
          "histogram": [
           {
            "marker": {
             "pattern": {
              "fillmode": "overlay",
              "size": 10,
              "solidity": 0.2
             }
            },
            "type": "histogram"
           }
          ],
          "histogram2d": [
           {
            "colorbar": {
             "outlinewidth": 0,
             "ticks": ""
            },
            "colorscale": [
             [
              0,
              "#0d0887"
             ],
             [
              0.1111111111111111,
              "#46039f"
             ],
             [
              0.2222222222222222,
              "#7201a8"
             ],
             [
              0.3333333333333333,
              "#9c179e"
             ],
             [
              0.4444444444444444,
              "#bd3786"
             ],
             [
              0.5555555555555556,
              "#d8576b"
             ],
             [
              0.6666666666666666,
              "#ed7953"
             ],
             [
              0.7777777777777778,
              "#fb9f3a"
             ],
             [
              0.8888888888888888,
              "#fdca26"
             ],
             [
              1,
              "#f0f921"
             ]
            ],
            "type": "histogram2d"
           }
          ],
          "histogram2dcontour": [
           {
            "colorbar": {
             "outlinewidth": 0,
             "ticks": ""
            },
            "colorscale": [
             [
              0,
              "#0d0887"
             ],
             [
              0.1111111111111111,
              "#46039f"
             ],
             [
              0.2222222222222222,
              "#7201a8"
             ],
             [
              0.3333333333333333,
              "#9c179e"
             ],
             [
              0.4444444444444444,
              "#bd3786"
             ],
             [
              0.5555555555555556,
              "#d8576b"
             ],
             [
              0.6666666666666666,
              "#ed7953"
             ],
             [
              0.7777777777777778,
              "#fb9f3a"
             ],
             [
              0.8888888888888888,
              "#fdca26"
             ],
             [
              1,
              "#f0f921"
             ]
            ],
            "type": "histogram2dcontour"
           }
          ],
          "mesh3d": [
           {
            "colorbar": {
             "outlinewidth": 0,
             "ticks": ""
            },
            "type": "mesh3d"
           }
          ],
          "parcoords": [
           {
            "line": {
             "colorbar": {
              "outlinewidth": 0,
              "ticks": ""
             }
            },
            "type": "parcoords"
           }
          ],
          "pie": [
           {
            "automargin": true,
            "type": "pie"
           }
          ],
          "scatter": [
           {
            "fillpattern": {
             "fillmode": "overlay",
             "size": 10,
             "solidity": 0.2
            },
            "type": "scatter"
           }
          ],
          "scatter3d": [
           {
            "line": {
             "colorbar": {
              "outlinewidth": 0,
              "ticks": ""
             }
            },
            "marker": {
             "colorbar": {
              "outlinewidth": 0,
              "ticks": ""
             }
            },
            "type": "scatter3d"
           }
          ],
          "scattercarpet": [
           {
            "marker": {
             "colorbar": {
              "outlinewidth": 0,
              "ticks": ""
             }
            },
            "type": "scattercarpet"
           }
          ],
          "scattergeo": [
           {
            "marker": {
             "colorbar": {
              "outlinewidth": 0,
              "ticks": ""
             }
            },
            "type": "scattergeo"
           }
          ],
          "scattergl": [
           {
            "marker": {
             "colorbar": {
              "outlinewidth": 0,
              "ticks": ""
             }
            },
            "type": "scattergl"
           }
          ],
          "scattermapbox": [
           {
            "marker": {
             "colorbar": {
              "outlinewidth": 0,
              "ticks": ""
             }
            },
            "type": "scattermapbox"
           }
          ],
          "scatterpolar": [
           {
            "marker": {
             "colorbar": {
              "outlinewidth": 0,
              "ticks": ""
             }
            },
            "type": "scatterpolar"
           }
          ],
          "scatterpolargl": [
           {
            "marker": {
             "colorbar": {
              "outlinewidth": 0,
              "ticks": ""
             }
            },
            "type": "scatterpolargl"
           }
          ],
          "scatterternary": [
           {
            "marker": {
             "colorbar": {
              "outlinewidth": 0,
              "ticks": ""
             }
            },
            "type": "scatterternary"
           }
          ],
          "surface": [
           {
            "colorbar": {
             "outlinewidth": 0,
             "ticks": ""
            },
            "colorscale": [
             [
              0,
              "#0d0887"
             ],
             [
              0.1111111111111111,
              "#46039f"
             ],
             [
              0.2222222222222222,
              "#7201a8"
             ],
             [
              0.3333333333333333,
              "#9c179e"
             ],
             [
              0.4444444444444444,
              "#bd3786"
             ],
             [
              0.5555555555555556,
              "#d8576b"
             ],
             [
              0.6666666666666666,
              "#ed7953"
             ],
             [
              0.7777777777777778,
              "#fb9f3a"
             ],
             [
              0.8888888888888888,
              "#fdca26"
             ],
             [
              1,
              "#f0f921"
             ]
            ],
            "type": "surface"
           }
          ],
          "table": [
           {
            "cells": {
             "fill": {
              "color": "#EBF0F8"
             },
             "line": {
              "color": "white"
             }
            },
            "header": {
             "fill": {
              "color": "#C8D4E3"
             },
             "line": {
              "color": "white"
             }
            },
            "type": "table"
           }
          ]
         },
         "layout": {
          "annotationdefaults": {
           "arrowcolor": "#2a3f5f",
           "arrowhead": 0,
           "arrowwidth": 1
          },
          "autotypenumbers": "strict",
          "coloraxis": {
           "colorbar": {
            "outlinewidth": 0,
            "ticks": ""
           }
          },
          "colorscale": {
           "diverging": [
            [
             0,
             "#8e0152"
            ],
            [
             0.1,
             "#c51b7d"
            ],
            [
             0.2,
             "#de77ae"
            ],
            [
             0.3,
             "#f1b6da"
            ],
            [
             0.4,
             "#fde0ef"
            ],
            [
             0.5,
             "#f7f7f7"
            ],
            [
             0.6,
             "#e6f5d0"
            ],
            [
             0.7,
             "#b8e186"
            ],
            [
             0.8,
             "#7fbc41"
            ],
            [
             0.9,
             "#4d9221"
            ],
            [
             1,
             "#276419"
            ]
           ],
           "sequential": [
            [
             0,
             "#0d0887"
            ],
            [
             0.1111111111111111,
             "#46039f"
            ],
            [
             0.2222222222222222,
             "#7201a8"
            ],
            [
             0.3333333333333333,
             "#9c179e"
            ],
            [
             0.4444444444444444,
             "#bd3786"
            ],
            [
             0.5555555555555556,
             "#d8576b"
            ],
            [
             0.6666666666666666,
             "#ed7953"
            ],
            [
             0.7777777777777778,
             "#fb9f3a"
            ],
            [
             0.8888888888888888,
             "#fdca26"
            ],
            [
             1,
             "#f0f921"
            ]
           ],
           "sequentialminus": [
            [
             0,
             "#0d0887"
            ],
            [
             0.1111111111111111,
             "#46039f"
            ],
            [
             0.2222222222222222,
             "#7201a8"
            ],
            [
             0.3333333333333333,
             "#9c179e"
            ],
            [
             0.4444444444444444,
             "#bd3786"
            ],
            [
             0.5555555555555556,
             "#d8576b"
            ],
            [
             0.6666666666666666,
             "#ed7953"
            ],
            [
             0.7777777777777778,
             "#fb9f3a"
            ],
            [
             0.8888888888888888,
             "#fdca26"
            ],
            [
             1,
             "#f0f921"
            ]
           ]
          },
          "colorway": [
           "#636efa",
           "#EF553B",
           "#00cc96",
           "#ab63fa",
           "#FFA15A",
           "#19d3f3",
           "#FF6692",
           "#B6E880",
           "#FF97FF",
           "#FECB52"
          ],
          "font": {
           "color": "#2a3f5f"
          },
          "geo": {
           "bgcolor": "white",
           "lakecolor": "white",
           "landcolor": "#E5ECF6",
           "showlakes": true,
           "showland": true,
           "subunitcolor": "white"
          },
          "hoverlabel": {
           "align": "left"
          },
          "hovermode": "closest",
          "mapbox": {
           "style": "light"
          },
          "paper_bgcolor": "white",
          "plot_bgcolor": "#E5ECF6",
          "polar": {
           "angularaxis": {
            "gridcolor": "white",
            "linecolor": "white",
            "ticks": ""
           },
           "bgcolor": "#E5ECF6",
           "radialaxis": {
            "gridcolor": "white",
            "linecolor": "white",
            "ticks": ""
           }
          },
          "scene": {
           "xaxis": {
            "backgroundcolor": "#E5ECF6",
            "gridcolor": "white",
            "gridwidth": 2,
            "linecolor": "white",
            "showbackground": true,
            "ticks": "",
            "zerolinecolor": "white"
           },
           "yaxis": {
            "backgroundcolor": "#E5ECF6",
            "gridcolor": "white",
            "gridwidth": 2,
            "linecolor": "white",
            "showbackground": true,
            "ticks": "",
            "zerolinecolor": "white"
           },
           "zaxis": {
            "backgroundcolor": "#E5ECF6",
            "gridcolor": "white",
            "gridwidth": 2,
            "linecolor": "white",
            "showbackground": true,
            "ticks": "",
            "zerolinecolor": "white"
           }
          },
          "shapedefaults": {
           "line": {
            "color": "#2a3f5f"
           }
          },
          "ternary": {
           "aaxis": {
            "gridcolor": "white",
            "linecolor": "white",
            "ticks": ""
           },
           "baxis": {
            "gridcolor": "white",
            "linecolor": "white",
            "ticks": ""
           },
           "bgcolor": "#E5ECF6",
           "caxis": {
            "gridcolor": "white",
            "linecolor": "white",
            "ticks": ""
           }
          },
          "title": {
           "x": 0.05
          },
          "xaxis": {
           "automargin": true,
           "gridcolor": "white",
           "linecolor": "white",
           "ticks": "",
           "title": {
            "standoff": 15
           },
           "zerolinecolor": "white",
           "zerolinewidth": 2
          },
          "yaxis": {
           "automargin": true,
           "gridcolor": "white",
           "linecolor": "white",
           "ticks": "",
           "title": {
            "standoff": 15
           },
           "zerolinecolor": "white",
           "zerolinewidth": 2
          }
         }
        },
        "xaxis": {
         "anchor": "y",
         "domain": [
          0,
          1
         ],
         "title": {
          "text": "pca1"
         }
        },
        "yaxis": {
         "anchor": "x",
         "domain": [
          0,
          1
         ],
         "title": {
          "text": "pca2"
         }
        }
       }
      }
     },
     "metadata": {},
     "output_type": "display_data"
    }
   ],
   "source": [
    "import plotly.express as px\n",
    "\n",
    "\n",
    "# Create your plot\n",
    "fig = px.scatter(pca_dataframe.head(100), x=\"pca1\", y=\"pca2\", color=\"price\")\n",
    "fig.show()"
   ]
  },
  {
   "attachments": {},
   "cell_type": "markdown",
   "metadata": {},
   "source": [
    "##### 3D PCA "
   ]
  },
  {
   "cell_type": "code",
   "execution_count": 96,
   "metadata": {},
   "outputs": [],
   "source": [
    "from sklearn.decomposition import PCA\n",
    "\n",
    "# Definir o número de componentes desejado\n",
    "n_components = 3\n",
    "\n",
    "# Aplicar o PCA\n",
    "pca = PCA(n_components=n_components)\n",
    "_data = data.drop(\n",
    "    [\"price\", \"city\", \"state\", \"price_per_m2\", \"usable_areas\", \"neighborhood\"], axis=1\n",
    ")\n",
    "pca_data = pca.fit_transform(_data)"
   ]
  },
  {
   "cell_type": "code",
   "execution_count": 97,
   "metadata": {},
   "outputs": [],
   "source": [
    "pca_dataframe = pd.DataFrame(pca_data, columns=[\"pc1\", \"pc2\", \"pc3\"])\n",
    "pca_dataframe[\"price\"] = data[\"price\"]"
   ]
  },
  {
   "cell_type": "code",
   "execution_count": 98,
   "metadata": {},
   "outputs": [
    {
     "data": {
      "application/vnd.plotly.v1+json": {
       "config": {
        "plotlyServerURL": "https://plot.ly"
       },
       "data": [
        {
         "hovertemplate": "pc1=%{x}<br>pc2=%{y}<br>pc3=%{z}<br>price=%{marker.color}<extra></extra>",
         "legendgroup": "",
         "marker": {
          "color": [
           1435912,
           null,
           null,
           1650000,
           1280000,
           499000,
           699000,
           null,
           null,
           250000,
           699000,
           465000,
           null,
           440000,
           220000,
           750000,
           75000,
           null,
           null,
           350000,
           null,
           null,
           550000,
           null,
           599000,
           395000,
           null,
           null,
           595000,
           130000,
           null,
           140000,
           null,
           null,
           199900,
           null,
           null,
           470000,
           430000,
           650000,
           null,
           null,
           880000,
           190000,
           60000,
           170000,
           790000,
           165000,
           390000,
           580000,
           null,
           595000,
           null,
           null,
           null,
           1900000,
           null,
           640000,
           450000,
           null,
           450000,
           380000,
           119000,
           null,
           70383,
           699000,
           200000,
           965000,
           null,
           390000,
           370000,
           280000,
           null,
           null,
           990000,
           595000,
           null,
           null,
           480000,
           null,
           620000,
           null,
           525000,
           98093,
           null,
           null,
           null,
           null,
           null,
           365000,
           null,
           null,
           null,
           575000,
           150000,
           null,
           300000,
           699000,
           null,
           null
          ],
          "coloraxis": "coloraxis",
          "symbol": "circle"
         },
         "mode": "markers",
         "name": "",
         "scene": "scene",
         "showlegend": false,
         "type": "scatter3d",
         "x": [
          -1578.3180989065313,
          -1350.3180117429642,
          -1626.3181029630975,
          -1587.318011697304,
          -1664.3181972864063,
          -1536.3182535030544,
          -1664.3181972864063,
          -1597.318286028951,
          -1595.3182693365718,
          -1673.318251438772,
          -1554.3176084998795,
          -1672.3183886950019,
          -1567.317811775833,
          -1577.3178116251552,
          -1661.31801058229,
          -1679.3183143300294,
          -1672.3182601475285,
          -1644.318251875737,
          -1683.3185257704188,
          -1667.3185889931667,
          -1662.31813108587,
          -1674.3184516465303,
          -1670.3183144656396,
          -1650.3179940255204,
          -1612.3183266174033,
          -1677.318451601327,
          -1672.3183886950019,
          -1617.3180655332471,
          -1653.3185892041156,
          -1682.3183342563486,
          -1653.3181344704874,
          -1672.3182601475285,
          -1577.3177573371797,
          -1313.3179306770096,
          -1382.3177930610348,
          -1607.3182524332437,
          -1576.318115659182,
          -1654.318506235861,
          -1604.3185899424357,
          -1664.3181972864063,
          -1666.3184517670725,
          -1663.3183345426362,
          -1592.3181864285882,
          -1659.3182516497207,
          -1632.3183350097363,
          -1616.318011260339,
          -1672.3182601475285,
          -1679.3182513483653,
          4957.681648646931,
          -1562.3178285736865,
          -1592.3185901232487,
          -1544.3178583815406,
          -1652.318197467219,
          -1650.3183227958202,
          -1607.318530164576,
          -1664.3181972864063,
          -1657.3181973918804,
          -1657.3181973918804,
          -1657.3181973918804,
          -1642.3182519058723,
          -1657.3182603735447,
          -1642.3181776463741,
          -1657.3182603735447,
          -1642.3182519058723,
          -1657.3181973918804,
          -1642.3183148875364,
          -1642.3183148875364,
          -1662.3184518273436,
          -1657.3182603735447,
          -1642.3183148875364,
          -1657.3181973918804,
          -1562.3181988233175,
          -1657.3182603735447,
          -1662.3182602982058,
          -1657.3182603735447,
          -1657.3182603735447,
          -1662.3182602982058,
          -1642.3181776463741,
          -1562.3182618049814,
          -1662.3183145861815,
          -1657.3182603735447,
          -1552.318198973995,
          -1642.3183891470346,
          -1657.3182603735447,
          -1572.3181986726397,
          -1662.3182602982058,
          -1562.3181988233175,
          -1562.3181988233175,
          -1617.3183982174169,
          -1605.3181239159055,
          -1577.3184531081029,
          -1662.3182602982058,
          -1562.3181988233175,
          -1642.318397840723,
          -1562.3181988233175,
          -1572.3181986726397,
          -1642.3185183593705,
          -1642.3184354061839,
          -1352.3177950438783,
          -1642.3182519058723
         ],
         "y": [
          0.059791061436658105,
          2.5499172972543747,
          0.4980065405075183,
          1.591306616124406,
          0.18698466244962209,
          -0.22815804594294292,
          0.18698466244962209,
          0.40656489473689844,
          0.09396190098064172,
          -0.20528396552322464,
          3.764755383542291,
          -0.798656610760908,
          2.662016793640542,
          2.663686434547091,
          1.603661958832867,
          -0.6851259591615004,
          -0.2925234030073439,
          -0.21012592415221612,
          -1.3900256869107328,
          -1.8735408905434154,
          0.6983541762015469,
          -1.2791664607618032,
          -0.6866286359773943,
          1.2895562882607166,
          -0.3278306780179954,
          -1.2786655684898385,
          -0.798656610760908,
          1.2025442340553116,
          -1.8758783878125842,
          -0.40321566506561857,
          0.6659918356346236,
          -0.2925234030073439,
          3.057457739335832,
          1.7703459775346626,
          1.888658168575002,
          -0.21630359550644662,
          0.37172619883028046,
          -1.6762770473636412,
          -1.8840596282546729,
          0.18698466244962209,
          -1.2805021734870423,
          -0.40638798278806115,
          0.2928953850669647,
          -0.20762146279239296,
          -0.41156386959836255,
          1.5961485747533977,
          -0.2925234030073439,
          -0.20428218097929537,
          -1.3124228506557187,
          2.973451038762214,
          -1.886063197342532,
          1.8650637757983275,
          0.1849810933617635,
          -0.2906263788220806,
          -1.433574621551533,
          0.18698466244962209,
          0.1858159138150379,
          0.1858159138150379,
          0.1858159138150379,
          -0.21045985233352585,
          -0.29502786436716716,
          -0.09809794936870268,
          -0.29502786436716716,
          -0.21045985233352585,
          0.1858159138150379,
          -0.691303630515731,
          -0.691303630515731,
          -1.281170029849662,
          -0.29502786436716716,
          -0.691303630515731,
          0.1858159138150379,
          0.16995432520282447,
          -0.29502786436716716,
          -0.2941930439138927,
          -0.29502786436716716,
          -0.29502786436716716,
          -0.2941930439138927,
          -0.09809794936870268,
          -0.3108894529793805,
          -0.6879643487026333,
          -0.29502786436716716,
          0.16828468429627577,
          -0.8036655334805541,
          -0.29502786436716716,
          0.17162396610937328,
          -0.2941930439138927,
          0.16995432520282447,
          0.16995432520282447,
          -0.8949121091403908,
          0.2894956840658075,
          -1.2953619775553264,
          -0.2941930439138927,
          0.16995432520282447,
          -0.8907380068740185,
          0.16995432520282447,
          0.17162396610937328,
          -1.7962127535959937,
          -1.5967783772377069,
          2.344710112325826,
          -0.21045985233352585
         ],
         "z": [
          2.094692946403783,
          -4.728457601127795,
          0.5131679056306385,
          -1.5340610669168313,
          -0.4678816126334722,
          -0.19028996915425825,
          -0.4678816126334722,
          -3.143479662412651,
          -1.6655319773491821,
          -0.1837868510667038,
          -0.6614849535031746,
          -0.9887809569060398,
          -1.076386073288967,
          -1.075911393136592,
          -1.5305484337892463,
          0.1628202409162052,
          -0.12117958462008795,
          -0.18516342350859494,
          -1.7932054465625245,
          -1.447642650914843,
          -0.8574049825041632,
          -0.6423637369840811,
          0.16239302877906664,
          -0.053027960862916244,
          -1.3379513217117807,
          -0.6422213329383684,
          -0.9887809569060398,
          -1.2489694770300719,
          -1.4483072031281696,
          -1.2719738261832936,
          -0.8147260446925695,
          -0.12117958462008795,
          -1.3595789425662204,
          -0.43489555040260036,
          1.9766784704905451,
          -0.18691974007238701,
          0.6165553892793451,
          -0.35964554785920355,
          -1.450633135874813,
          -0.4678816126334722,
          -0.6427434811059827,
          -1.2728757184728086,
          -0.577060194141167,
          -0.18445140328003057,
          -1.2743472269451748,
          -1.5326844944749396,
          -0.12117958462008795,
          -0.18350204297527808,
          -0.49854726010738426,
          -2.5546660344591,
          -1.4512027520576647,
          0.7468870673459936,
          -0.4684512288163238,
          -1.379253687081483,
          -1.7537068657718509,
          -0.4678816126334722,
          -0.46821388874013564,
          -0.46821388874013564,
          -0.46821388874013564,
          -0.18525835953907022,
          -0.12189160484865236,
          0.9660105621765115,
          -0.12189160484865236,
          -0.18525835953907022,
          -0.46821388874013564,
          0.16106392435241298,
          0.16106392435241298,
          -0.642933353166933,
          -0.12189160484865236,
          0.16106392435241298,
          -0.46821388874013564,
          -0.4727233501877098,
          -0.12189160484865236,
          -0.12165426477246417,
          -0.12189160484865236,
          -0.12189160484865236,
          -0.12165426477246417,
          0.9660105621765115,
          -0.12640106629622658,
          0.16201328465716555,
          -0.12189160484865236,
          -0.4731980303400861,
          -0.9902049973631684,
          -0.12189160484865236,
          -0.4722486700353337,
          -0.12165426477246417,
          -0.4727233501877098,
          -0.4727233501877098,
          -0.9287369632822554,
          0.6805866961830893,
          -0.6469681344621309,
          -0.12165426477246417,
          -0.4727233501877098,
          -0.9275502629013149,
          -0.4727233501877098,
          -0.4722486700353337,
          -0.2544542796314696,
          0.8341599076222587,
          0.3483447745801552,
          -0.18525835953907022
         ]
        }
       ],
       "layout": {
        "coloraxis": {
         "colorbar": {
          "title": {
           "text": "price"
          }
         },
         "colorscale": [
          [
           0,
           "#0d0887"
          ],
          [
           0.1111111111111111,
           "#46039f"
          ],
          [
           0.2222222222222222,
           "#7201a8"
          ],
          [
           0.3333333333333333,
           "#9c179e"
          ],
          [
           0.4444444444444444,
           "#bd3786"
          ],
          [
           0.5555555555555556,
           "#d8576b"
          ],
          [
           0.6666666666666666,
           "#ed7953"
          ],
          [
           0.7777777777777778,
           "#fb9f3a"
          ],
          [
           0.8888888888888888,
           "#fdca26"
          ],
          [
           1,
           "#f0f921"
          ]
         ]
        },
        "legend": {
         "tracegroupgap": 0
        },
        "margin": {
         "t": 60
        },
        "scene": {
         "domain": {
          "x": [
           0,
           1
          ],
          "y": [
           0,
           1
          ]
         },
         "xaxis": {
          "title": {
           "text": "pc1"
          }
         },
         "yaxis": {
          "title": {
           "text": "pc2"
          }
         },
         "zaxis": {
          "title": {
           "text": "pc3"
          }
         }
        },
        "template": {
         "data": {
          "bar": [
           {
            "error_x": {
             "color": "#2a3f5f"
            },
            "error_y": {
             "color": "#2a3f5f"
            },
            "marker": {
             "line": {
              "color": "#E5ECF6",
              "width": 0.5
             },
             "pattern": {
              "fillmode": "overlay",
              "size": 10,
              "solidity": 0.2
             }
            },
            "type": "bar"
           }
          ],
          "barpolar": [
           {
            "marker": {
             "line": {
              "color": "#E5ECF6",
              "width": 0.5
             },
             "pattern": {
              "fillmode": "overlay",
              "size": 10,
              "solidity": 0.2
             }
            },
            "type": "barpolar"
           }
          ],
          "carpet": [
           {
            "aaxis": {
             "endlinecolor": "#2a3f5f",
             "gridcolor": "white",
             "linecolor": "white",
             "minorgridcolor": "white",
             "startlinecolor": "#2a3f5f"
            },
            "baxis": {
             "endlinecolor": "#2a3f5f",
             "gridcolor": "white",
             "linecolor": "white",
             "minorgridcolor": "white",
             "startlinecolor": "#2a3f5f"
            },
            "type": "carpet"
           }
          ],
          "choropleth": [
           {
            "colorbar": {
             "outlinewidth": 0,
             "ticks": ""
            },
            "type": "choropleth"
           }
          ],
          "contour": [
           {
            "colorbar": {
             "outlinewidth": 0,
             "ticks": ""
            },
            "colorscale": [
             [
              0,
              "#0d0887"
             ],
             [
              0.1111111111111111,
              "#46039f"
             ],
             [
              0.2222222222222222,
              "#7201a8"
             ],
             [
              0.3333333333333333,
              "#9c179e"
             ],
             [
              0.4444444444444444,
              "#bd3786"
             ],
             [
              0.5555555555555556,
              "#d8576b"
             ],
             [
              0.6666666666666666,
              "#ed7953"
             ],
             [
              0.7777777777777778,
              "#fb9f3a"
             ],
             [
              0.8888888888888888,
              "#fdca26"
             ],
             [
              1,
              "#f0f921"
             ]
            ],
            "type": "contour"
           }
          ],
          "contourcarpet": [
           {
            "colorbar": {
             "outlinewidth": 0,
             "ticks": ""
            },
            "type": "contourcarpet"
           }
          ],
          "heatmap": [
           {
            "colorbar": {
             "outlinewidth": 0,
             "ticks": ""
            },
            "colorscale": [
             [
              0,
              "#0d0887"
             ],
             [
              0.1111111111111111,
              "#46039f"
             ],
             [
              0.2222222222222222,
              "#7201a8"
             ],
             [
              0.3333333333333333,
              "#9c179e"
             ],
             [
              0.4444444444444444,
              "#bd3786"
             ],
             [
              0.5555555555555556,
              "#d8576b"
             ],
             [
              0.6666666666666666,
              "#ed7953"
             ],
             [
              0.7777777777777778,
              "#fb9f3a"
             ],
             [
              0.8888888888888888,
              "#fdca26"
             ],
             [
              1,
              "#f0f921"
             ]
            ],
            "type": "heatmap"
           }
          ],
          "heatmapgl": [
           {
            "colorbar": {
             "outlinewidth": 0,
             "ticks": ""
            },
            "colorscale": [
             [
              0,
              "#0d0887"
             ],
             [
              0.1111111111111111,
              "#46039f"
             ],
             [
              0.2222222222222222,
              "#7201a8"
             ],
             [
              0.3333333333333333,
              "#9c179e"
             ],
             [
              0.4444444444444444,
              "#bd3786"
             ],
             [
              0.5555555555555556,
              "#d8576b"
             ],
             [
              0.6666666666666666,
              "#ed7953"
             ],
             [
              0.7777777777777778,
              "#fb9f3a"
             ],
             [
              0.8888888888888888,
              "#fdca26"
             ],
             [
              1,
              "#f0f921"
             ]
            ],
            "type": "heatmapgl"
           }
          ],
          "histogram": [
           {
            "marker": {
             "pattern": {
              "fillmode": "overlay",
              "size": 10,
              "solidity": 0.2
             }
            },
            "type": "histogram"
           }
          ],
          "histogram2d": [
           {
            "colorbar": {
             "outlinewidth": 0,
             "ticks": ""
            },
            "colorscale": [
             [
              0,
              "#0d0887"
             ],
             [
              0.1111111111111111,
              "#46039f"
             ],
             [
              0.2222222222222222,
              "#7201a8"
             ],
             [
              0.3333333333333333,
              "#9c179e"
             ],
             [
              0.4444444444444444,
              "#bd3786"
             ],
             [
              0.5555555555555556,
              "#d8576b"
             ],
             [
              0.6666666666666666,
              "#ed7953"
             ],
             [
              0.7777777777777778,
              "#fb9f3a"
             ],
             [
              0.8888888888888888,
              "#fdca26"
             ],
             [
              1,
              "#f0f921"
             ]
            ],
            "type": "histogram2d"
           }
          ],
          "histogram2dcontour": [
           {
            "colorbar": {
             "outlinewidth": 0,
             "ticks": ""
            },
            "colorscale": [
             [
              0,
              "#0d0887"
             ],
             [
              0.1111111111111111,
              "#46039f"
             ],
             [
              0.2222222222222222,
              "#7201a8"
             ],
             [
              0.3333333333333333,
              "#9c179e"
             ],
             [
              0.4444444444444444,
              "#bd3786"
             ],
             [
              0.5555555555555556,
              "#d8576b"
             ],
             [
              0.6666666666666666,
              "#ed7953"
             ],
             [
              0.7777777777777778,
              "#fb9f3a"
             ],
             [
              0.8888888888888888,
              "#fdca26"
             ],
             [
              1,
              "#f0f921"
             ]
            ],
            "type": "histogram2dcontour"
           }
          ],
          "mesh3d": [
           {
            "colorbar": {
             "outlinewidth": 0,
             "ticks": ""
            },
            "type": "mesh3d"
           }
          ],
          "parcoords": [
           {
            "line": {
             "colorbar": {
              "outlinewidth": 0,
              "ticks": ""
             }
            },
            "type": "parcoords"
           }
          ],
          "pie": [
           {
            "automargin": true,
            "type": "pie"
           }
          ],
          "scatter": [
           {
            "fillpattern": {
             "fillmode": "overlay",
             "size": 10,
             "solidity": 0.2
            },
            "type": "scatter"
           }
          ],
          "scatter3d": [
           {
            "line": {
             "colorbar": {
              "outlinewidth": 0,
              "ticks": ""
             }
            },
            "marker": {
             "colorbar": {
              "outlinewidth": 0,
              "ticks": ""
             }
            },
            "type": "scatter3d"
           }
          ],
          "scattercarpet": [
           {
            "marker": {
             "colorbar": {
              "outlinewidth": 0,
              "ticks": ""
             }
            },
            "type": "scattercarpet"
           }
          ],
          "scattergeo": [
           {
            "marker": {
             "colorbar": {
              "outlinewidth": 0,
              "ticks": ""
             }
            },
            "type": "scattergeo"
           }
          ],
          "scattergl": [
           {
            "marker": {
             "colorbar": {
              "outlinewidth": 0,
              "ticks": ""
             }
            },
            "type": "scattergl"
           }
          ],
          "scattermapbox": [
           {
            "marker": {
             "colorbar": {
              "outlinewidth": 0,
              "ticks": ""
             }
            },
            "type": "scattermapbox"
           }
          ],
          "scatterpolar": [
           {
            "marker": {
             "colorbar": {
              "outlinewidth": 0,
              "ticks": ""
             }
            },
            "type": "scatterpolar"
           }
          ],
          "scatterpolargl": [
           {
            "marker": {
             "colorbar": {
              "outlinewidth": 0,
              "ticks": ""
             }
            },
            "type": "scatterpolargl"
           }
          ],
          "scatterternary": [
           {
            "marker": {
             "colorbar": {
              "outlinewidth": 0,
              "ticks": ""
             }
            },
            "type": "scatterternary"
           }
          ],
          "surface": [
           {
            "colorbar": {
             "outlinewidth": 0,
             "ticks": ""
            },
            "colorscale": [
             [
              0,
              "#0d0887"
             ],
             [
              0.1111111111111111,
              "#46039f"
             ],
             [
              0.2222222222222222,
              "#7201a8"
             ],
             [
              0.3333333333333333,
              "#9c179e"
             ],
             [
              0.4444444444444444,
              "#bd3786"
             ],
             [
              0.5555555555555556,
              "#d8576b"
             ],
             [
              0.6666666666666666,
              "#ed7953"
             ],
             [
              0.7777777777777778,
              "#fb9f3a"
             ],
             [
              0.8888888888888888,
              "#fdca26"
             ],
             [
              1,
              "#f0f921"
             ]
            ],
            "type": "surface"
           }
          ],
          "table": [
           {
            "cells": {
             "fill": {
              "color": "#EBF0F8"
             },
             "line": {
              "color": "white"
             }
            },
            "header": {
             "fill": {
              "color": "#C8D4E3"
             },
             "line": {
              "color": "white"
             }
            },
            "type": "table"
           }
          ]
         },
         "layout": {
          "annotationdefaults": {
           "arrowcolor": "#2a3f5f",
           "arrowhead": 0,
           "arrowwidth": 1
          },
          "autotypenumbers": "strict",
          "coloraxis": {
           "colorbar": {
            "outlinewidth": 0,
            "ticks": ""
           }
          },
          "colorscale": {
           "diverging": [
            [
             0,
             "#8e0152"
            ],
            [
             0.1,
             "#c51b7d"
            ],
            [
             0.2,
             "#de77ae"
            ],
            [
             0.3,
             "#f1b6da"
            ],
            [
             0.4,
             "#fde0ef"
            ],
            [
             0.5,
             "#f7f7f7"
            ],
            [
             0.6,
             "#e6f5d0"
            ],
            [
             0.7,
             "#b8e186"
            ],
            [
             0.8,
             "#7fbc41"
            ],
            [
             0.9,
             "#4d9221"
            ],
            [
             1,
             "#276419"
            ]
           ],
           "sequential": [
            [
             0,
             "#0d0887"
            ],
            [
             0.1111111111111111,
             "#46039f"
            ],
            [
             0.2222222222222222,
             "#7201a8"
            ],
            [
             0.3333333333333333,
             "#9c179e"
            ],
            [
             0.4444444444444444,
             "#bd3786"
            ],
            [
             0.5555555555555556,
             "#d8576b"
            ],
            [
             0.6666666666666666,
             "#ed7953"
            ],
            [
             0.7777777777777778,
             "#fb9f3a"
            ],
            [
             0.8888888888888888,
             "#fdca26"
            ],
            [
             1,
             "#f0f921"
            ]
           ],
           "sequentialminus": [
            [
             0,
             "#0d0887"
            ],
            [
             0.1111111111111111,
             "#46039f"
            ],
            [
             0.2222222222222222,
             "#7201a8"
            ],
            [
             0.3333333333333333,
             "#9c179e"
            ],
            [
             0.4444444444444444,
             "#bd3786"
            ],
            [
             0.5555555555555556,
             "#d8576b"
            ],
            [
             0.6666666666666666,
             "#ed7953"
            ],
            [
             0.7777777777777778,
             "#fb9f3a"
            ],
            [
             0.8888888888888888,
             "#fdca26"
            ],
            [
             1,
             "#f0f921"
            ]
           ]
          },
          "colorway": [
           "#636efa",
           "#EF553B",
           "#00cc96",
           "#ab63fa",
           "#FFA15A",
           "#19d3f3",
           "#FF6692",
           "#B6E880",
           "#FF97FF",
           "#FECB52"
          ],
          "font": {
           "color": "#2a3f5f"
          },
          "geo": {
           "bgcolor": "white",
           "lakecolor": "white",
           "landcolor": "#E5ECF6",
           "showlakes": true,
           "showland": true,
           "subunitcolor": "white"
          },
          "hoverlabel": {
           "align": "left"
          },
          "hovermode": "closest",
          "mapbox": {
           "style": "light"
          },
          "paper_bgcolor": "white",
          "plot_bgcolor": "#E5ECF6",
          "polar": {
           "angularaxis": {
            "gridcolor": "white",
            "linecolor": "white",
            "ticks": ""
           },
           "bgcolor": "#E5ECF6",
           "radialaxis": {
            "gridcolor": "white",
            "linecolor": "white",
            "ticks": ""
           }
          },
          "scene": {
           "xaxis": {
            "backgroundcolor": "#E5ECF6",
            "gridcolor": "white",
            "gridwidth": 2,
            "linecolor": "white",
            "showbackground": true,
            "ticks": "",
            "zerolinecolor": "white"
           },
           "yaxis": {
            "backgroundcolor": "#E5ECF6",
            "gridcolor": "white",
            "gridwidth": 2,
            "linecolor": "white",
            "showbackground": true,
            "ticks": "",
            "zerolinecolor": "white"
           },
           "zaxis": {
            "backgroundcolor": "#E5ECF6",
            "gridcolor": "white",
            "gridwidth": 2,
            "linecolor": "white",
            "showbackground": true,
            "ticks": "",
            "zerolinecolor": "white"
           }
          },
          "shapedefaults": {
           "line": {
            "color": "#2a3f5f"
           }
          },
          "ternary": {
           "aaxis": {
            "gridcolor": "white",
            "linecolor": "white",
            "ticks": ""
           },
           "baxis": {
            "gridcolor": "white",
            "linecolor": "white",
            "ticks": ""
           },
           "bgcolor": "#E5ECF6",
           "caxis": {
            "gridcolor": "white",
            "linecolor": "white",
            "ticks": ""
           }
          },
          "title": {
           "x": 0.05
          },
          "xaxis": {
           "automargin": true,
           "gridcolor": "white",
           "linecolor": "white",
           "ticks": "",
           "title": {
            "standoff": 15
           },
           "zerolinecolor": "white",
           "zerolinewidth": 2
          },
          "yaxis": {
           "automargin": true,
           "gridcolor": "white",
           "linecolor": "white",
           "ticks": "",
           "title": {
            "standoff": 15
           },
           "zerolinecolor": "white",
           "zerolinewidth": 2
          }
         }
        }
       }
      }
     },
     "metadata": {},
     "output_type": "display_data"
    }
   ],
   "source": [
    "# Create your plot\n",
    "fig = px.scatter_3d(pca_dataframe.head(100), x=\"pc1\", y=\"pc2\", z=\"pc3\", color=\"price\")\n",
    "fig.show()"
   ]
  }
 ],
 "metadata": {
  "kernelspec": {
   "display_name": "venv",
   "language": "python",
   "name": "python3"
  },
  "language_info": {
   "codemirror_mode": {
    "name": "ipython",
    "version": 3
   },
   "file_extension": ".py",
   "mimetype": "text/x-python",
   "name": "python",
   "nbconvert_exporter": "python",
   "pygments_lexer": "ipython3",
   "version": "3.8.10"
  },
  "orig_nbformat": 4
 },
 "nbformat": 4,
 "nbformat_minor": 2
}
